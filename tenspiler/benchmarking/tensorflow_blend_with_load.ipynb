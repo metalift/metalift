{
  "cells": [
    {
      "cell_type": "code",
      "execution_count": 1,
      "metadata": {
        "id": "3Fcj9JH7G-0j"
      },
      "outputs": [
        {
          "name": "stderr",
          "output_type": "stream",
          "text": [
            "2024-01-05 23:04:33.878495: I tensorflow/core/util/port.cc:113] oneDNN custom operations are on. You may see slightly different numerical results due to floating-point round-off errors from different computation orders. To turn them off, set the environment variable `TF_ENABLE_ONEDNN_OPTS=0`.\n",
            "2024-01-05 23:04:33.898188: E external/local_xla/xla/stream_executor/cuda/cuda_dnn.cc:9261] Unable to register cuDNN factory: Attempting to register factory for plugin cuDNN when one has already been registered\n",
            "2024-01-05 23:04:33.898206: E external/local_xla/xla/stream_executor/cuda/cuda_fft.cc:607] Unable to register cuFFT factory: Attempting to register factory for plugin cuFFT when one has already been registered\n",
            "2024-01-05 23:04:33.898829: E external/local_xla/xla/stream_executor/cuda/cuda_blas.cc:1515] Unable to register cuBLAS factory: Attempting to register factory for plugin cuBLAS when one has already been registered\n",
            "2024-01-05 23:04:33.902560: I tensorflow/core/platform/cpu_feature_guard.cc:182] This TensorFlow binary is optimized to use available CPU instructions in performance-critical operations.\n",
            "To enable the following instructions: AVX2 AVX_VNNI FMA, in other operations, rebuild TensorFlow with the appropriate compiler flags.\n",
            "2024-01-05 23:04:34.241194: W tensorflow/compiler/tf2tensorrt/utils/py_utils.cc:38] TF-TRT Warning: Could not find TensorRT\n"
          ]
        }
      ],
      "source": [
        "import tensorflow as tf\n",
        "import numpy as np\n",
        "import time\n",
        "import cv2\n",
        "import os"
      ]
    },
    {
      "cell_type": "code",
      "execution_count": 2,
      "metadata": {},
      "outputs": [],
      "source": [
        "rng = np.random.default_rng(1)"
      ]
    },
    {
      "cell_type": "code",
      "execution_count": 3,
      "metadata": {},
      "outputs": [],
      "source": [
        "folder = \"./data/\"\n",
        "\n",
        "img_files = [os.path.join(folder, f) for f in os.listdir(folder) if os.path.isfile(os.path.join(folder, f))]\n",
        "\n",
        "bases = []\n",
        "actives = []\n",
        "\n",
        "for _file in img_files:\n",
        "    img = cv2.imread(_file, cv2.IMREAD_GRAYSCALE).astype(np.uint8)\n",
        "    rnd = (rng.random(img.shape, dtype = np.float32) * 255).astype(np.uint8)\n",
        "    bases.append(img)\n",
        "    actives.append(rnd)"
      ]
    },
    {
      "cell_type": "code",
      "execution_count": 4,
      "metadata": {},
      "outputs": [],
      "source": [
        "tf.random.set_seed(0)\n",
        "\n",
        "def mat_runner(bases, actives, f):\n",
        "    total_time = 0\n",
        "    for i in range(len(bases)):\n",
        "        with tf.device('/CPU:0'):\n",
        "            b = tf.convert_to_tensor(bases[i], np.uint8)\n",
        "            a = tf.convert_to_tensor(actives[i], np.uint8)\n",
        "        with tf.device('/GPU:0'):\n",
        "            start_time = time.perf_counter()\n",
        "            b = tf.identity(b)\n",
        "            a = tf.identity(a)\n",
        "            res = f(b, a)\n",
        "        with tf.device('/CPU:0'):\n",
        "            res = tf.identity(res)\n",
        "            end_time = time.perf_counter()\n",
        "        del a\n",
        "        del b\n",
        "            \n",
        "        total_time += (end_time - start_time) * 1000\n",
        "    return total_time\n",
        "\n",
        "def mat_runner_float(bases, actives, f):\n",
        "    total_time = 0\n",
        "    for i in range(len(bases)):\n",
        "        base = bases[i].astype(np.float32)\n",
        "        active = actives[i].astype(np.float32)\n",
        "        with tf.device('/CPU:0'):\n",
        "            b = tf.convert_to_tensor(base, np.float32)\n",
        "            a = tf.convert_to_tensor(active, np.float32)\n",
        "            opacity = tf.convert_to_tensor(rng.random(1, dtype = np.float32), np.float32)\n",
        "        with tf.device('/GPU:0'):\n",
        "            start_time = time.perf_counter()\n",
        "            b = tf.identity(b)\n",
        "            a = tf.identity(a)\n",
        "            opacity = tf.identity(opacity)\n",
        "            res = f(b, a, opacity)\n",
        "        with tf.device('/CPU:0'):\n",
        "            res = tf.identity(res)\n",
        "            end_time = time.perf_counter()\n",
        "        del a\n",
        "        del b\n",
        "        \n",
        "        total_time += (end_time - start_time) * 1000\n",
        "    return total_time\n",
        "\n",
        "def vec_runner_int(bases, actives, f):\n",
        "    total_time = 0\n",
        "    for i in range(len(bases)):\n",
        "        base = bases[i].flatten()\n",
        "        active = actives[i].flatten()\n",
        "        with tf.device('/CPU:0'):\n",
        "            b = tf.convert_to_tensor(base, np.uint8)\n",
        "            a = tf.convert_to_tensor(active, np.uint8)\n",
        "            opacity = tf.convert_to_tensor(rng.random(1, dtype = np.float32).astype(np.uint8), np.uint8)\n",
        "        with tf.device('/GPU:0'):\n",
        "            start_time = time.perf_counter()\n",
        "            b = tf.identity(b)\n",
        "            a = tf.identity(a)\n",
        "            opacity = tf.identity(opacity)\n",
        "            res = f(b, a, opacity)\n",
        "        with tf.device('/CPU:0'):\n",
        "            res = tf.identity(res)\n",
        "            end_time = time.perf_counter()\n",
        "        del a\n",
        "        del b\n",
        "        \n",
        "        total_time += (end_time - start_time) * 1000\n",
        "    return total_time\n",
        "\n",
        "def vec_runner_float(bases, actives, f):\n",
        "    total_time = 0\n",
        "    for i in range(len(bases)):\n",
        "        base = bases[i].flatten().astype(np.float32)\n",
        "        active = actives[i].flatten().astype(np.float32)\n",
        "        with tf.device('/CPU:0'):\n",
        "            b = tf.convert_to_tensor(base, np.float32)\n",
        "            a = tf.convert_to_tensor(active, np.float32)\n",
        "            opacity = tf.convert_to_tensor(rng.random(1, dtype = np.float32), np.float32)\n",
        "        with tf.device('/GPU:0'):\n",
        "            start_time = time.perf_counter()\n",
        "            b = tf.identity(b)\n",
        "            a = tf.identity(a)\n",
        "            opacity = tf.identity(opacity)\n",
        "            res = f(b, a, opacity)\n",
        "        with tf.device('/CPU:0'):\n",
        "            res = tf.identity(res)\n",
        "            end_time = time.perf_counter()\n",
        "        del a\n",
        "        del b\n",
        "        \n",
        "        total_time += (end_time - start_time) * 1000\n",
        "    return total_time\n",
        "    \n",
        "def timer(input1, input2, f, runner):\n",
        "    runs = 10\n",
        "    times = []\n",
        "    for _ in range(runs):\n",
        "        times.append(runner(input1, input2, f))\n",
        "    times = np.array(times)\n",
        "    print(f\"{f.__name__}_with_load\")\n",
        "    print(f\"{np.average(times)}ms +/- {np.std(times)}ms\")"
      ]
    },
    {
      "cell_type": "code",
      "execution_count": null,
      "metadata": {},
      "outputs": [],
      "source": []
    },
    {
      "cell_type": "code",
      "execution_count": 5,
      "metadata": {
        "id": "S7O23vFiUAto"
      },
      "outputs": [],
      "source": [
        "### Tensorflow"
      ]
    },
    {
      "cell_type": "code",
      "execution_count": null,
      "metadata": {},
      "outputs": [],
      "source": [
        "def dissolve_blend_8_tf(base, active, opacity):\n",
        "    return tf.where(tf.greater_equal(opacity - ((tf.random.uniform(tf.shape(base), 1, 2147483647) % 100) + 1) / 100, 0), active, base) "
      ]
    },
    {
      "cell_type": "code",
      "execution_count": 7,
      "metadata": {
        "id": "2DxQ-niWHQk9"
      },
      "outputs": [],
      "source": [
        "def darken_blend_8_tf(base, active):\n",
        "  return tf.where(tf.greater(base, active), active, base)"
      ]
    },
    {
      "cell_type": "code",
      "execution_count": 8,
      "metadata": {
        "id": "4VhqImnYHs9O"
      },
      "outputs": [],
      "source": [
        "def color_burn_8_tf(base, active):\n",
        "  return tf.where(tf.equal(active, 0), 255, 255 - (255 - base) // active)"
      ]
    },
    {
      "cell_type": "code",
      "execution_count": 9,
      "metadata": {
        "id": "8DWudgUDI5ET"
      },
      "outputs": [],
      "source": [
        "def lighten_blend_8_tf(base, active):\n",
        "  return tf.where(tf.less(base, active), active, base)"
      ]
    },
    {
      "cell_type": "code",
      "execution_count": 10,
      "metadata": {
        "id": "kxWfZPjGJbnz"
      },
      "outputs": [],
      "source": [
        "def color_dodge_8_tf(base, active):\n",
        "  return tf.where(tf.equal(active, 255), 255, base // (255 - active))"
      ]
    },
    {
      "cell_type": "code",
      "execution_count": 11,
      "metadata": {
        "id": "7QfPJf-GJcqx"
      },
      "outputs": [],
      "source": [
        "def overlay_blend_8_tf(base, active):\n",
        "  return tf.where(tf.greater_equal(base, 128), 2 * base + base - 2 * base * base // 255 - 128, 2 * base * base // 128)"
      ]
    },
    {
      "cell_type": "code",
      "execution_count": 12,
      "metadata": {
        "id": "ary6YsWkKlm1"
      },
      "outputs": [],
      "source": [
        "def multiply_blend_8_tf(base, active):\n",
        "  return base * active // 255"
      ]
    },
    {
      "cell_type": "code",
      "execution_count": 13,
      "metadata": {
        "id": "M0nF2XJFMc0G"
      },
      "outputs": [],
      "source": [
        "def linear_burn_8_tf(base, active):\n",
        "  return base + active - 255"
      ]
    },
    {
      "cell_type": "code",
      "execution_count": 14,
      "metadata": {
        "id": "LhNWpK-_MmGz"
      },
      "outputs": [],
      "source": [
        "def screen_blend_8_tf(base, active):\n",
        "  return base + active - base * active // 255"
      ]
    },
    {
      "cell_type": "code",
      "execution_count": 15,
      "metadata": {
        "id": "QteNknkBMzrg"
      },
      "outputs": [],
      "source": [
        "def linear_dodge_8_tf(base, active):\n",
        "  return base + active"
      ]
    },
    {
      "cell_type": "code",
      "execution_count": 17,
      "metadata": {
        "id": "gOEAFLcGPAwk"
      },
      "outputs": [],
      "source": [
        "def normal_blend_f_tf(base, active, opacity):\n",
        "  return opacity * active + (1-opacity) * base"
      ]
    },
    {
      "cell_type": "code",
      "execution_count": 18,
      "metadata": {
        "id": "_Wc_UrzdPA1c"
      },
      "outputs": [],
      "source": [
        "def normal_blend_8_tf(base, active, opacity):\n",
        "  return opacity * active + (255 - opacity) * base"
      ]
    },
    {
      "cell_type": "code",
      "execution_count": null,
      "metadata": {
        "id": "EdqZMPcyW-Oe"
      },
      "outputs": [],
      "source": []
    },
    {
      "cell_type": "code",
      "execution_count": 19,
      "metadata": {
        "colab": {
          "base_uri": "https://localhost:8080/"
        },
        "id": "MB4shFvbXS5W",
        "outputId": "3c92ba75-4c24-4726-8226-af6ee36e02cc"
      },
      "outputs": [
        {
          "name": "stderr",
          "output_type": "stream",
          "text": [
            "2024-01-05 23:04:34.757957: I external/local_xla/xla/stream_executor/cuda/cuda_executor.cc:901] successful NUMA node read from SysFS had negative value (-1), but there must be at least one NUMA node, so returning NUMA node zero. See more at https://github.com/torvalds/linux/blob/v6.0/Documentation/ABI/testing/sysfs-bus-pci#L344-L355\n",
            "2024-01-05 23:04:34.779682: I external/local_xla/xla/stream_executor/cuda/cuda_executor.cc:901] successful NUMA node read from SysFS had negative value (-1), but there must be at least one NUMA node, so returning NUMA node zero. See more at https://github.com/torvalds/linux/blob/v6.0/Documentation/ABI/testing/sysfs-bus-pci#L344-L355\n",
            "2024-01-05 23:04:34.779776: I external/local_xla/xla/stream_executor/cuda/cuda_executor.cc:901] successful NUMA node read from SysFS had negative value (-1), but there must be at least one NUMA node, so returning NUMA node zero. See more at https://github.com/torvalds/linux/blob/v6.0/Documentation/ABI/testing/sysfs-bus-pci#L344-L355\n",
            "2024-01-05 23:04:34.780715: I external/local_xla/xla/stream_executor/cuda/cuda_executor.cc:901] successful NUMA node read from SysFS had negative value (-1), but there must be at least one NUMA node, so returning NUMA node zero. See more at https://github.com/torvalds/linux/blob/v6.0/Documentation/ABI/testing/sysfs-bus-pci#L344-L355\n",
            "2024-01-05 23:04:34.780769: I external/local_xla/xla/stream_executor/cuda/cuda_executor.cc:901] successful NUMA node read from SysFS had negative value (-1), but there must be at least one NUMA node, so returning NUMA node zero. See more at https://github.com/torvalds/linux/blob/v6.0/Documentation/ABI/testing/sysfs-bus-pci#L344-L355\n",
            "2024-01-05 23:04:34.780806: I external/local_xla/xla/stream_executor/cuda/cuda_executor.cc:901] successful NUMA node read from SysFS had negative value (-1), but there must be at least one NUMA node, so returning NUMA node zero. See more at https://github.com/torvalds/linux/blob/v6.0/Documentation/ABI/testing/sysfs-bus-pci#L344-L355\n",
            "2024-01-05 23:04:34.828253: I external/local_xla/xla/stream_executor/cuda/cuda_executor.cc:901] successful NUMA node read from SysFS had negative value (-1), but there must be at least one NUMA node, so returning NUMA node zero. See more at https://github.com/torvalds/linux/blob/v6.0/Documentation/ABI/testing/sysfs-bus-pci#L344-L355\n",
            "2024-01-05 23:04:34.828340: I external/local_xla/xla/stream_executor/cuda/cuda_executor.cc:901] successful NUMA node read from SysFS had negative value (-1), but there must be at least one NUMA node, so returning NUMA node zero. See more at https://github.com/torvalds/linux/blob/v6.0/Documentation/ABI/testing/sysfs-bus-pci#L344-L355\n",
            "2024-01-05 23:04:34.828397: I external/local_xla/xla/stream_executor/cuda/cuda_executor.cc:901] successful NUMA node read from SysFS had negative value (-1), but there must be at least one NUMA node, so returning NUMA node zero. See more at https://github.com/torvalds/linux/blob/v6.0/Documentation/ABI/testing/sysfs-bus-pci#L344-L355\n",
            "2024-01-05 23:04:34.828441: I tensorflow/core/common_runtime/gpu/gpu_device.cc:1929] Created device /job:localhost/replica:0/task:0/device:GPU:0 with 1251 MB memory:  -> device: 0, name: NVIDIA GeForce RTX 4080, pci bus id: 0000:01:00.0, compute capability: 8.9\n",
            "2024-01-05 23:04:34.924499: I external/local_tsl/tsl/platform/default/subprocess.cc:304] Start cannot spawn child process: No such file or directory\n"
          ]
        },
        {
          "name": "stdout",
          "output_type": "stream",
          "text": [
            "darken_blend_8_tf\n",
            "55.88633227162063ms +/- 91.15898263287366ms\n"
          ]
        }
      ],
      "source": [
        "timer(bases, actives, darken_blend_8_tf, mat_runner)"
      ]
    },
    {
      "cell_type": "code",
      "execution_count": 20,
      "metadata": {
        "colab": {
          "base_uri": "https://localhost:8080/"
        },
        "id": "5qt9CDcGXS76",
        "outputId": "f7957436-d94f-4d13-b45d-a1de2550dd94"
      },
      "outputs": [
        {
          "name": "stdout",
          "output_type": "stream",
          "text": [
            "color_burn_8_tf\n",
            "45.40080698207021ms +/- 41.595729482734576ms\n"
          ]
        }
      ],
      "source": [
        "timer(bases, actives, color_burn_8_tf, mat_runner)"
      ]
    },
    {
      "cell_type": "code",
      "execution_count": 21,
      "metadata": {
        "colab": {
          "base_uri": "https://localhost:8080/"
        },
        "id": "FsRFdyK8XS-u",
        "outputId": "dfc63085-fb86-4df6-b19f-e61e18a4a3aa"
      },
      "outputs": [
        {
          "name": "stdout",
          "output_type": "stream",
          "text": [
            "lighten_blend_8_tf\n",
            "26.441041380167007ms +/- 1.8196296180275036ms\n"
          ]
        }
      ],
      "source": [
        "timer(bases, actives, lighten_blend_8_tf, mat_runner)"
      ]
    },
    {
      "cell_type": "code",
      "execution_count": 22,
      "metadata": {
        "colab": {
          "base_uri": "https://localhost:8080/"
        },
        "id": "yfCHE_FtXTBV",
        "outputId": "207d25cf-d20d-495c-a050-4ee172fe1f5f"
      },
      "outputs": [
        {
          "name": "stdout",
          "output_type": "stream",
          "text": [
            "color_dodge_8_tf\n",
            "29.829288413748145ms +/- 0.4740867541102261ms\n"
          ]
        }
      ],
      "source": [
        "timer(bases, actives, color_dodge_8_tf, mat_runner)"
      ]
    },
    {
      "cell_type": "code",
      "execution_count": 23,
      "metadata": {
        "colab": {
          "base_uri": "https://localhost:8080/"
        },
        "id": "JsdoO_lFXTD_",
        "outputId": "34aa5215-7869-4643-cc56-c46e224a216a"
      },
      "outputs": [
        {
          "name": "stdout",
          "output_type": "stream",
          "text": [
            "overlay_blend_8_tf\n",
            "39.785669557750225ms +/- 1.6377565857641134ms\n"
          ]
        }
      ],
      "source": [
        "timer(bases, actives, overlay_blend_8_tf, mat_runner)"
      ]
    },
    {
      "cell_type": "code",
      "execution_count": 24,
      "metadata": {
        "colab": {
          "base_uri": "https://localhost:8080/"
        },
        "id": "m_djqfuGXTGj",
        "outputId": "8bfc952b-e4c7-41c8-bd72-b870bbff5585"
      },
      "outputs": [
        {
          "name": "stdout",
          "output_type": "stream",
          "text": [
            "multiply_blend_8_tf\n",
            "26.399048743769526ms +/- 0.6520089694085656ms\n"
          ]
        }
      ],
      "source": [
        "timer(bases, actives, multiply_blend_8_tf, mat_runner)"
      ]
    },
    {
      "cell_type": "code",
      "execution_count": 25,
      "metadata": {
        "colab": {
          "base_uri": "https://localhost:8080/"
        },
        "id": "BtaSpU6UXTJL",
        "outputId": "16afe2c2-83d8-4644-a6a1-498776ec688d"
      },
      "outputs": [
        {
          "name": "stdout",
          "output_type": "stream",
          "text": [
            "linear_burn_8_tf\n",
            "26.517998054623604ms +/- 0.4711447824822826ms\n"
          ]
        }
      ],
      "source": [
        "timer(bases, actives, linear_burn_8_tf, mat_runner)"
      ]
    },
    {
      "cell_type": "code",
      "execution_count": 26,
      "metadata": {
        "colab": {
          "background_save": true
        },
        "id": "Ato4hHoQXTLx",
        "outputId": "b6ea2502-3fa0-4d03-a659-187d1a642a2a"
      },
      "outputs": [
        {
          "name": "stdout",
          "output_type": "stream",
          "text": [
            "screen_blend_8_tf\n",
            "28.729688376188278ms +/- 0.10944056094852271ms\n"
          ]
        }
      ],
      "source": [
        "timer(bases, actives, screen_blend_8_tf, mat_runner)"
      ]
    },
    {
      "cell_type": "code",
      "execution_count": 27,
      "metadata": {
        "colab": {
          "background_save": true
        },
        "id": "FUG_RUgjXTSF",
        "outputId": "e4ce294f-fad7-4314-b685-8c4e1b9d744b"
      },
      "outputs": [
        {
          "name": "stdout",
          "output_type": "stream",
          "text": [
            "linear_dodge_8_tf\n",
            "24.70039837062359ms +/- 0.18001562637900898ms\n"
          ]
        }
      ],
      "source": [
        "timer(bases, actives, linear_dodge_8_tf, mat_runner)"
      ]
    },
    {
      "cell_type": "code",
      "execution_count": 28,
      "metadata": {
        "colab": {
          "background_save": true
        },
        "id": "9kE-EhsjThtM",
        "outputId": "acd43a97-3a42-4491-aa43-966eb2e60209"
      },
      "outputs": [
        {
          "name": "stdout",
          "output_type": "stream",
          "text": [
            "normal_blend_f_tf\n",
            "49.133656453341246ms +/- 1.7696782673743248ms\n"
          ]
        }
      ],
      "source": [
        "timer(bases, actives, normal_blend_f_tf, vec_runner_float)"
      ]
    },
    {
      "cell_type": "code",
      "execution_count": 29,
      "metadata": {
        "colab": {
          "background_save": true
        },
        "id": "QAbq4_HnThvs",
        "outputId": "f7593f5b-ce16-4820-f735-30a633ff3ebf"
      },
      "outputs": [
        {
          "name": "stdout",
          "output_type": "stream",
          "text": [
            "normal_blend_8_tf\n",
            "36.16926805116236ms +/- 1.5527690807956271ms\n"
          ]
        }
      ],
      "source": [
        "timer(bases, actives, normal_blend_8_tf, vec_runner_int)"
      ]
    },
    {
      "cell_type": "code",
      "execution_count": null,
      "metadata": {},
      "outputs": [],
      "source": [
        "timer(bases, actives, dissolve_blend_8_tf, mat_runner_float)"
      ]
    }
  ],
  "metadata": {
    "accelerator": "GPU",
    "colab": {
      "provenance": []
    },
    "kernelspec": {
      "display_name": "Python 3",
      "name": "python3"
    },
    "language_info": {
      "codemirror_mode": {
        "name": "ipython",
        "version": 3
      },
      "file_extension": ".py",
      "mimetype": "text/x-python",
      "name": "python",
      "nbconvert_exporter": "python",
      "pygments_lexer": "ipython3",
      "version": "3.9.18"
    }
  },
  "nbformat": 4,
  "nbformat_minor": 0
}
