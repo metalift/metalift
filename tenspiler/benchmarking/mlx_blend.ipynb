{
 "cells": [
  {
   "cell_type": "code",
   "execution_count": 1,
   "metadata": {},
   "outputs": [],
   "source": [
    "import numpy as np\n",
    "import mlx.core as mx\n",
    "import time\n",
    "import cv2\n",
    "import os"
   ]
  },
  {
   "cell_type": "code",
   "execution_count": 2,
   "metadata": {},
   "outputs": [],
   "source": [
    "rng = np.random.default_rng(1)"
   ]
  },
  {
   "cell_type": "code",
   "execution_count": 3,
   "metadata": {},
   "outputs": [],
   "source": [
    "folder = \"./data/\"\n",
    "\n",
    "img_files = [os.path.join(folder, f) for f in os.listdir(folder) if os.path.isfile(os.path.join(folder, f))]\n",
    "\n",
    "bases = []\n",
    "actives = []\n",
    "\n",
    "for _file in img_files:\n",
    "    img = cv2.imread(_file, cv2.IMREAD_GRAYSCALE)\n",
    "    rnd = (rng.random(img.shape, dtype = np.float32) * 255).astype(np.uint8)\n",
    "    bases.append(img)\n",
    "    actives.append(rnd)"
   ]
  },
  {
   "cell_type": "code",
   "execution_count": 4,
   "metadata": {},
   "outputs": [],
   "source": [
    "mx.random.seed(0)\n",
    "\n",
    "def mat_runner(bases, actives, f):\n",
    "    total_time = 0\n",
    "    for i in range(len(bases)):\n",
    "        b = mx.array(bases[i], mx.uint8)\n",
    "        a = mx.array(actives[i], mx.uint8)\n",
    "        start_time = time.perf_counter()\n",
    "        mx.eval(f(b, a))\n",
    "        end_time = time.perf_counter()\n",
    "        del a\n",
    "        del b\n",
    "        total_time += (end_time - start_time) * 1000\n",
    "    return total_time\n",
    "\n",
    "def mat_runner_float(bases, actives, f):\n",
    "    total_time = 0\n",
    "    for i in range(len(bases)):\n",
    "        base = bases[i].astype(np.float32)\n",
    "        active = actives[i].astype(np.float32)\n",
    "        b = mx.array(base, mx.float32)\n",
    "        a = mx.array(active, mx.float32)\n",
    "        opacity = mx.array(rng.random(1, dtype = np.float32), mx.float32)\n",
    "        start_time = time.perf_counter()\n",
    "        mx.eval(f(b, a, opacity))\n",
    "        end_time = time.perf_counter()\n",
    "        del a\n",
    "        del b\n",
    "        total_time += (end_time - start_time) * 1000\n",
    "    return total_time\n",
    "\n",
    "def vec_runner_int(bases, actives, f):\n",
    "    total_time = 0\n",
    "    for i in range(len(bases)):\n",
    "        base = bases[i].flatten()\n",
    "        active = actives[i].flatten()\n",
    "        b = mx.array(base, mx.uint8)\n",
    "        a = mx.array(active, mx.uint8)\n",
    "        opacity = mx.array(rng.random(1, dtype = np.float32).astype(np.uint8), mx.uint8)\n",
    "        start_time = time.perf_counter()\n",
    "        mx.eval(f(b, a, opacity))\n",
    "        end_time = time.perf_counter()\n",
    "        del a\n",
    "        del b\n",
    "        total_time += (end_time - start_time) * 1000\n",
    "    return total_time\n",
    "\n",
    "def vec_runner_float(bases, actives, f):\n",
    "    total_time = 0\n",
    "    for i in range(len(bases)):\n",
    "        base = bases[i].flatten().astype(np.float32)\n",
    "        active = actives[i].flatten().astype(np.float32)\n",
    "        b = mx.array(base, mx.float32)\n",
    "        a = mx.array(active, mx.float32)\n",
    "        opacity = mx.array(rng.random(1, dtype = np.float32), mx.float32)\n",
    "        start_time = time.perf_counter()\n",
    "        mx.eval(f(b, a, opacity))\n",
    "        end_time = time.perf_counter()\n",
    "        del a\n",
    "        del b\n",
    "        total_time += (end_time - start_time) * 1000\n",
    "    return total_time\n",
    "\n",
    "def timer(input1, input2, f, runner):\n",
    "    runs = 10\n",
    "    times = []\n",
    "    for _ in range(runs):\n",
    "        times.append(runner(input1, input2, f))\n",
    "    times = np.array(times)\n",
    "    print(f\"{f.__name__}\")\n",
    "    print(f\"{np.average(times)}ms +/- {np.std(times)}ms\")"
   ]
  },
  {
   "cell_type": "code",
   "execution_count": 5,
   "metadata": {},
   "outputs": [],
   "source": [
    "###MLX"
   ]
  },
  {
   "cell_type": "code",
   "execution_count": null,
   "metadata": {},
   "outputs": [],
   "source": [
    "def dissolve_blend_8_mx(base, active, opacity):\n",
    "    return mx.where(mx.greater_equal(opacity - ((mx.random.randint(1, 2147483647, base.shape, mx.int32) % 100) + 1) / 100, 0), active, base)"
   ]
  },
  {
   "cell_type": "code",
   "execution_count": 6,
   "metadata": {},
   "outputs": [],
   "source": [
    "def darken_blend_8_mx(base, active):\n",
    "  return mx.where(mx.greater(base, active), active, base)"
   ]
  },
  {
   "cell_type": "code",
   "execution_count": 7,
   "metadata": {},
   "outputs": [],
   "source": [
    "def color_burn_8_mx(base, active):\n",
    "  return mx.where(mx.equal(active, 0), 255, (255) - (((255) - (base)) // (active)))"
   ]
  },
  {
   "cell_type": "code",
   "execution_count": 8,
   "metadata": {},
   "outputs": [],
   "source": [
    "def lighten_blend_8_mx(base, active):\n",
    "  return mx.where(mx.less(base, active), active, base)"
   ]
  },
  {
   "cell_type": "code",
   "execution_count": 9,
   "metadata": {},
   "outputs": [],
   "source": [
    "def color_dodge_8_mx(base, active):\n",
    "  return mx.where(mx.equal(active, 255), 255, (base) // ((255) - (active)))"
   ]
  },
  {
   "cell_type": "code",
   "execution_count": 10,
   "metadata": {},
   "outputs": [],
   "source": [
    "def overlay_blend_8_mx(base, active):\n",
    "  return mx.where(mx.greater_equal(base, 128), ((((2) * (base)) + (base)) - ((((2) * (base)) * (base)) // (255))) - (255), (((2) * (base)) * (base)) // (255))"
   ]
  },
  {
   "cell_type": "code",
   "execution_count": 11,
   "metadata": {},
   "outputs": [],
   "source": [
    "def multiply_blend_8_mx(base, active):\n",
    "  return ((base) * (active)) // (255)"
   ]
  },
  {
   "cell_type": "code",
   "execution_count": 12,
   "metadata": {},
   "outputs": [],
   "source": [
    "def linear_burn_8_mx(base, active):\n",
    "  return ((base) + (active)) - (255)"
   ]
  },
  {
   "cell_type": "code",
   "execution_count": 13,
   "metadata": {},
   "outputs": [],
   "source": [
    "def screen_blend_8_mx(base, active):\n",
    "  return ((base) + (active)) - (((base) * (active)) // (255))"
   ]
  },
  {
   "cell_type": "code",
   "execution_count": 14,
   "metadata": {},
   "outputs": [],
   "source": [
    "def linear_dodge_8_mx(base, active):\n",
    "  return (base) + (active)"
   ]
  },
  {
   "cell_type": "code",
   "execution_count": 16,
   "metadata": {},
   "outputs": [],
   "source": [
    "def normal_blend_f_mx(base, active, opacity):\n",
    "  return ((opacity) * (active)) + (((1) - (opacity)) * (base))"
   ]
  },
  {
   "cell_type": "code",
   "execution_count": 17,
   "metadata": {},
   "outputs": [],
   "source": [
    "def normal_blend_8_mx(base, active, opacity):\n",
    "  return ((opacity) * (active)) + (((255) - (opacity)) * (base))"
   ]
  },
  {
   "cell_type": "code",
   "execution_count": null,
   "metadata": {},
   "outputs": [],
   "source": []
  },
  {
   "cell_type": "code",
   "execution_count": 18,
   "metadata": {},
   "outputs": [
    {
     "name": "stdout",
     "output_type": "stream",
     "text": [
      "darken_blend_8_mx\n",
      "2732.5353465033118ms +/- 111.77568220952709ms\n"
     ]
    }
   ],
   "source": [
    "timer(bases, actives, darken_blend_8_mx, mat_runner)"
   ]
  },
  {
   "cell_type": "code",
   "execution_count": 19,
   "metadata": {},
   "outputs": [
    {
     "name": "stdout",
     "output_type": "stream",
     "text": [
      "color_burn_8_mx\n",
      "3095.4330299984917ms +/- 6.53067596107768ms\n"
     ]
    }
   ],
   "source": [
    "timer(bases, actives, color_burn_8_mx, mat_runner)"
   ]
  },
  {
   "cell_type": "code",
   "execution_count": 20,
   "metadata": {},
   "outputs": [
    {
     "name": "stdout",
     "output_type": "stream",
     "text": [
      "lighten_blend_8_mx\n",
      "2850.779464501045ms +/- 30.118045608143987ms\n"
     ]
    }
   ],
   "source": [
    "timer(bases, actives, lighten_blend_8_mx, mat_runner)"
   ]
  },
  {
   "cell_type": "code",
   "execution_count": 21,
   "metadata": {},
   "outputs": [
    {
     "name": "stdout",
     "output_type": "stream",
     "text": [
      "color_dodge_8_mx\n",
      "3093.87934450084ms +/- 17.12700450464597ms\n"
     ]
    }
   ],
   "source": [
    "timer(bases, actives, color_dodge_8_mx, mat_runner)"
   ]
  },
  {
   "cell_type": "code",
   "execution_count": 22,
   "metadata": {},
   "outputs": [
    {
     "name": "stdout",
     "output_type": "stream",
     "text": [
      "overlay_blend_8_mx\n",
      "3726.584408800022ms +/- 467.4370542287949ms\n"
     ]
    }
   ],
   "source": [
    "timer(bases, actives, overlay_blend_8_mx, mat_runner)"
   ]
  },
  {
   "cell_type": "code",
   "execution_count": 23,
   "metadata": {},
   "outputs": [
    {
     "name": "stdout",
     "output_type": "stream",
     "text": [
      "multiply_blend_8_mx\n",
      "2253.984360094773ms +/- 11.784597429968985ms\n"
     ]
    }
   ],
   "source": [
    "timer(bases, actives, multiply_blend_8_mx, mat_runner)"
   ]
  },
  {
   "cell_type": "code",
   "execution_count": 24,
   "metadata": {},
   "outputs": [
    {
     "name": "stdout",
     "output_type": "stream",
     "text": [
      "linear_burn_8_mx\n",
      "2232.258692804203ms +/- 5.284886579118435ms\n"
     ]
    }
   ],
   "source": [
    "timer(bases, actives, linear_burn_8_mx, mat_runner)"
   ]
  },
  {
   "cell_type": "code",
   "execution_count": 25,
   "metadata": {},
   "outputs": [
    {
     "name": "stdout",
     "output_type": "stream",
     "text": [
      "screen_blend_8_mx\n",
      "2507.485742397512ms +/- 9.541389124696947ms\n"
     ]
    }
   ],
   "source": [
    "timer(bases, actives, screen_blend_8_mx, mat_runner)"
   ]
  },
  {
   "cell_type": "code",
   "execution_count": 26,
   "metadata": {},
   "outputs": [
    {
     "name": "stdout",
     "output_type": "stream",
     "text": [
      "linear_dodge_8_mx\n",
      "1697.4647873988033ms +/- 49.79813995317829ms\n"
     ]
    }
   ],
   "source": [
    "timer(bases, actives, linear_dodge_8_mx, mat_runner)"
   ]
  },
  {
   "cell_type": "code",
   "execution_count": 27,
   "metadata": {},
   "outputs": [
    {
     "name": "stdout",
     "output_type": "stream",
     "text": [
      "normal_blend_f_mx\n",
      "5044.476787297912ms +/- 350.6389352462887ms\n"
     ]
    }
   ],
   "source": [
    "timer(bases, actives, normal_blend_f_mx, vec_runner_float)"
   ]
  },
  {
   "cell_type": "code",
   "execution_count": 28,
   "metadata": {},
   "outputs": [
    {
     "name": "stdout",
     "output_type": "stream",
     "text": [
      "normal_blend_8_mx\n",
      "3394.0634279995493ms +/- 133.99528305213315ms\n"
     ]
    }
   ],
   "source": [
    "timer(bases, actives, normal_blend_8_mx, vec_runner_int)"
   ]
  },
  {
   "cell_type": "code",
   "execution_count": 31,
   "metadata": {},
   "outputs": [
    {
     "name": "stdout",
     "output_type": "stream",
     "text": [
      "dissolve_blend_8_mx\n",
      "18712.383793596753ms +/- 782.7154854909116ms\n"
     ]
    }
   ],
   "source": [
    "timer(bases, actives, dissolve_blend_8_mx, mat_runner_float)"
   ]
  }
 ],
 "metadata": {
  "kernelspec": {
   "display_name": "base",
   "language": "python",
   "name": "python3"
  },
  "language_info": {
   "codemirror_mode": {
    "name": "ipython",
    "version": 3
   },
   "file_extension": ".py",
   "mimetype": "text/x-python",
   "name": "python",
   "nbconvert_exporter": "python",
   "pygments_lexer": "ipython3",
   "version": "3.11.6"
  }
 },
 "nbformat": 4,
 "nbformat_minor": 2
}
