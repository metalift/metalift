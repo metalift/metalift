{
  "cells": [
    {
      "cell_type": "code",
      "execution_count": 1,
      "metadata": {
        "id": "3Fcj9JH7G-0j"
      },
      "outputs": [],
      "source": [
        "import torch\n",
        "import numpy as np\n",
        "import time\n",
        "import cv2\n",
        "import os"
      ]
    },
    {
      "cell_type": "code",
      "execution_count": 2,
      "metadata": {},
      "outputs": [],
      "source": [
        "rng = np.random.default_rng(1)\n",
        "device = 'cuda' if torch.cuda.is_available() else 'cpu'\n",
        "cpu = 'cpu'"
      ]
    },
    {
      "cell_type": "code",
      "execution_count": 3,
      "metadata": {},
      "outputs": [],
      "source": [
        "folder = \"./data/\"\n",
        "\n",
        "img_files = [os.path.join(folder, f) for f in os.listdir(folder) if os.path.isfile(os.path.join(folder, f))]\n",
        "\n",
        "bases = []\n",
        "actives = []\n",
        "\n",
        "for _file in img_files:\n",
        "    img = cv2.imread(_file, cv2.IMREAD_GRAYSCALE).astype(np.uint8)\n",
        "    rnd = (rng.random(img.shape, dtype = np.float32).astype(np.uint8) * 255).astype(np.uint8)\n",
        "    bases.append(img)\n",
        "    actives.append(rnd)"
      ]
    },
    {
      "cell_type": "code",
      "execution_count": 4,
      "metadata": {},
      "outputs": [],
      "source": [
        "torch.manual_seed(0)\n",
        "\n",
        "def mat_runner(bases, actives, f):\n",
        "    total_time = 0\n",
        "    for i in range(len(bases)):\n",
        "        b = torch.from_numpy(bases[i]).to(dtype=torch.uint8).to(cpu)\n",
        "        a = torch.from_numpy(actives[i]).to(dtype=torch.uint8).to(cpu)\n",
        "        \n",
        "        start_time = time.perf_counter()\n",
        "        b = b.to(device)\n",
        "        a = a.to(device)\n",
        "        res = f(b, a)\n",
        "        res = res.to(cpu)\n",
        "        end_time = time.perf_counter()\n",
        "\n",
        "        del a\n",
        "        del b\n",
        "        total_time += (end_time - start_time) * 1000\n",
        "    return total_time\n",
        "\n",
        "def mat_runner_float(bases, actives, f):\n",
        "    total_time = 0\n",
        "    for i in range(len(bases)):\n",
        "        base = bases[i].astype(np.float32)\n",
        "        active = actives[i].astype(np.float32)\n",
        "        b = torch.from_numpy(base).to(dtype=torch.float32).to(cpu)\n",
        "        a = torch.from_numpy(active).to(dtype=torch.float32).to(cpu)\n",
        "        opacity = torch.from_numpy(rng.random(1, dtype = np.float32)).to(dtype=torch.float32).to(cpu)\n",
        "\n",
        "        start_time = time.perf_counter()\n",
        "        b = b.to(device)\n",
        "        a = a.to(device)\n",
        "        opacity = opacity.to(device)\n",
        "        res = f(b, a, opacity)\n",
        "        res = res.to(cpu)\n",
        "        end_time = time.perf_counter()\n",
        "        \n",
        "        del a\n",
        "        del b\n",
        "        total_time += (end_time - start_time) * 1000\n",
        "    return total_time\n",
        "\n",
        "def vec_runner_int(bases, actives, f):\n",
        "    total_time = 0\n",
        "    for i in range(len(bases)):\n",
        "        base = bases[i].flatten()\n",
        "        active = actives[i].flatten()\n",
        "        b = torch.from_numpy(base).to(dtype=torch.uint8).to(cpu)\n",
        "        a = torch.from_numpy(active).to(dtype=torch.uint8).to(cpu)\n",
        "        opacity = torch.from_numpy(rng.random(1, dtype = np.float32).astype(np.uint8)).to(dtype=torch.uint8).to(cpu)\n",
        "\n",
        "        start_time = time.perf_counter()\n",
        "        b = b.to(device)\n",
        "        a = a.to(device)\n",
        "        opacity = opacity.to(device)\n",
        "        res = f(b, a, opacity)\n",
        "        res = res.to(cpu)\n",
        "        end_time = time.perf_counter()\n",
        "\n",
        "        del a\n",
        "        del b\n",
        "        total_time += (end_time - start_time) * 1000\n",
        "    return total_time\n",
        "\n",
        "def vec_runner_float(bases, actives, f):\n",
        "    total_time = 0\n",
        "    for i in range(len(bases)):\n",
        "        base = bases[i].flatten().astype(np.float32)\n",
        "        active = actives[i].flatten().astype(np.float32)\n",
        "        b = torch.from_numpy(base).to(dtype=torch.float32).to(cpu)\n",
        "        a = torch.from_numpy(active).to(dtype=torch.float32).to(cpu)\n",
        "        opacity = torch.from_numpy(rng.random(1, dtype = np.float32)).to(dtype=torch.float32).to(cpu)\n",
        "\n",
        "        start_time = time.perf_counter()\n",
        "        b = b.to(device)\n",
        "        a = a.to(device)\n",
        "        opacity = opacity.to(device)\n",
        "        res = f(b, a, opacity)\n",
        "        res = res.to(cpu)\n",
        "        end_time = time.perf_counter()\n",
        "        \n",
        "        del a\n",
        "        del b\n",
        "        total_time += (end_time - start_time) * 1000\n",
        "    return total_time\n",
        "\n",
        "\n",
        "\n",
        "def timer(input1, input2, f, runner):\n",
        "    runs = 10\n",
        "    times = []\n",
        "    for _ in range(runs):\n",
        "        times.append(runner(input1, input2, f))\n",
        "    times = np.array(times)\n",
        "    print(f\"{f.__name__}_with_load\")\n",
        "    print(f\"{np.average(times)}ms +/- {np.std(times)}ms\")"
      ]
    },
    {
      "cell_type": "code",
      "execution_count": 5,
      "metadata": {
        "id": "Bvs7Taz9RSF6"
      },
      "outputs": [],
      "source": [
        "### PYTORCH"
      ]
    },
    {
      "cell_type": "code",
      "execution_count": null,
      "metadata": {},
      "outputs": [],
      "source": [
        "def dissolve_blend_8_torch(base, active, opacity):\n",
        "    return torch.where(torch.greater_equal(opacity - ((torch.randint(1, 2147483647, base.shape, dtype=torch.int32, device='cuda') % 100) + 1) / 100, 0), active, base)  "
      ]
    },
    {
      "cell_type": "code",
      "execution_count": 6,
      "metadata": {
        "id": "5sW8bFYRUsGm"
      },
      "outputs": [],
      "source": [
        "def darken_blend_8_torch(base, active):\n",
        "  return torch.where(torch.greater(base, active), active, base)"
      ]
    },
    {
      "cell_type": "code",
      "execution_count": 7,
      "metadata": {
        "id": "LhofMRejUsKe"
      },
      "outputs": [],
      "source": [
        "def color_burn_8_torch(base, active):\n",
        "  return torch.where(torch.eq(active, 0), 255, 255 - (255 - base) // active)"
      ]
    },
    {
      "cell_type": "code",
      "execution_count": 8,
      "metadata": {
        "id": "oQHTB_4WUsPS"
      },
      "outputs": [],
      "source": [
        "def lighten_blend_8_torch(base, active):\n",
        "  return torch.where(torch.less(base, active), active, base)"
      ]
    },
    {
      "cell_type": "code",
      "execution_count": 9,
      "metadata": {
        "id": "iGDkMUhlUsT5"
      },
      "outputs": [],
      "source": [
        "def color_dodge_8_torch(base, active):\n",
        "  return torch.where(torch.eq(active, 255), 255, base // (255 - active))"
      ]
    },
    {
      "cell_type": "code",
      "execution_count": 10,
      "metadata": {
        "id": "u5ABMdg-UsYn"
      },
      "outputs": [],
      "source": [
        "def overlay_blend_8_torch(base, active):\n",
        "  return torch.where(torch.greater_equal(base, 128), 2 * base + base - 2 * base * base // 255 - 128, 2 * base * base // 128)"
      ]
    },
    {
      "cell_type": "code",
      "execution_count": 11,
      "metadata": {
        "id": "EErCwOeTUsc8"
      },
      "outputs": [],
      "source": [
        "def multiply_blend_8_torch(base, active):\n",
        "  return base * active // 255"
      ]
    },
    {
      "cell_type": "code",
      "execution_count": 12,
      "metadata": {
        "id": "8iGd1h1gUsg1"
      },
      "outputs": [],
      "source": [
        "def linear_burn_8_torch(base, active):\n",
        "  return base + active - 255"
      ]
    },
    {
      "cell_type": "code",
      "execution_count": 13,
      "metadata": {
        "id": "0qt2hYdeUslS"
      },
      "outputs": [],
      "source": [
        "def screen_blend_8_torch(base, active):\n",
        "  return base + active - base * active // 255"
      ]
    },
    {
      "cell_type": "code",
      "execution_count": 14,
      "metadata": {
        "id": "nudlnaGjUsrK"
      },
      "outputs": [],
      "source": [
        "def linear_dodge_8_torch(base, active):\n",
        "  return base + active"
      ]
    },
    {
      "cell_type": "code",
      "execution_count": 16,
      "metadata": {
        "id": "KfFDKDECRXAI"
      },
      "outputs": [],
      "source": [
        "def normal_blend_f_torch(base, active, opacity):\n",
        "  return opacity * active + (1-opacity)*base"
      ]
    },
    {
      "cell_type": "code",
      "execution_count": 17,
      "metadata": {
        "id": "xf1U5M15RXCv"
      },
      "outputs": [],
      "source": [
        "def normal_blend_8_torch(base, active, opacity):\n",
        "  return opacity * active + (255 - opacity) * base"
      ]
    },
    {
      "cell_type": "code",
      "execution_count": null,
      "metadata": {
        "id": "bV44qa89RXFD"
      },
      "outputs": [],
      "source": []
    },
    {
      "cell_type": "code",
      "execution_count": 18,
      "metadata": {
        "colab": {
          "base_uri": "https://localhost:8080/"
        },
        "id": "dKkcjRA0YmzU",
        "outputId": "27860dd5-35e7-47eb-dc1e-4938eeb8228a"
      },
      "outputs": [
        {
          "name": "stdout",
          "output_type": "stream",
          "text": [
            "darken_blend_8_torch_with_load\n",
            "886.917199101299ms +/- 25.179270121631575ms\n"
          ]
        }
      ],
      "source": [
        "timer(bases, actives, darken_blend_8_torch, mat_runner)"
      ]
    },
    {
      "cell_type": "code",
      "execution_count": 19,
      "metadata": {
        "colab": {
          "base_uri": "https://localhost:8080/"
        },
        "id": "w10sRAzDYoGT",
        "outputId": "26ea9977-2372-489b-8065-a8742e0b8ae8"
      },
      "outputs": [
        {
          "name": "stdout",
          "output_type": "stream",
          "text": [
            "color_burn_8_torch_with_load\n",
            "996.5826189611107ms +/- 9.0763955395946ms\n"
          ]
        }
      ],
      "source": [
        "timer(bases, actives, color_burn_8_torch, mat_runner)"
      ]
    },
    {
      "cell_type": "code",
      "execution_count": 20,
      "metadata": {
        "colab": {
          "base_uri": "https://localhost:8080/"
        },
        "id": "aA7sz7X6YoJO",
        "outputId": "6ba40a4f-490a-4980-ddec-46063f70c438"
      },
      "outputs": [
        {
          "name": "stdout",
          "output_type": "stream",
          "text": [
            "lighten_blend_8_torch_with_load\n",
            "862.4261014629155ms +/- 1.4966379041495774ms\n"
          ]
        }
      ],
      "source": [
        "timer(bases, actives, lighten_blend_8_torch, mat_runner)"
      ]
    },
    {
      "cell_type": "code",
      "execution_count": 21,
      "metadata": {
        "colab": {
          "base_uri": "https://localhost:8080/"
        },
        "id": "hFkhLQ-bYoLn",
        "outputId": "5724d50e-371e-4a8d-e730-254298c4fc67"
      },
      "outputs": [
        {
          "name": "stdout",
          "output_type": "stream",
          "text": [
            "color_dodge_8_torch_with_load\n",
            "965.8814419992268ms +/- 2.0656653390533535ms\n"
          ]
        }
      ],
      "source": [
        "timer(bases, actives, color_dodge_8_torch, mat_runner)"
      ]
    },
    {
      "cell_type": "code",
      "execution_count": 22,
      "metadata": {
        "colab": {
          "base_uri": "https://localhost:8080/"
        },
        "id": "eIahWffgYoN_",
        "outputId": "9fbc19db-77ad-4278-8365-6a923b20855e"
      },
      "outputs": [
        {
          "name": "stdout",
          "output_type": "stream",
          "text": [
            "overlay_blend_8_torch_with_load\n",
            "1149.721364909783ms +/- 2.5659686212909647ms\n"
          ]
        }
      ],
      "source": [
        "timer(bases, actives, overlay_blend_8_torch, mat_runner)"
      ]
    },
    {
      "cell_type": "code",
      "execution_count": 23,
      "metadata": {
        "colab": {
          "base_uri": "https://localhost:8080/"
        },
        "id": "iwZqD1uQYoQQ",
        "outputId": "6d4246b4-4264-463f-99bb-e4a89f19e2bf"
      },
      "outputs": [
        {
          "name": "stdout",
          "output_type": "stream",
          "text": [
            "multiply_blend_8_torch_with_load\n",
            "871.0549494251609ms +/- 3.5123073793141035ms\n"
          ]
        }
      ],
      "source": [
        "timer(bases, actives, multiply_blend_8_torch, mat_runner)"
      ]
    },
    {
      "cell_type": "code",
      "execution_count": 24,
      "metadata": {
        "colab": {
          "base_uri": "https://localhost:8080/"
        },
        "id": "rE3ASPNsYoSy",
        "outputId": "04521810-5d62-4282-d342-d2cf717e1a1a"
      },
      "outputs": [
        {
          "name": "stdout",
          "output_type": "stream",
          "text": [
            "linear_burn_8_torch_with_load\n",
            "868.9940991811454ms +/- 2.658514464542843ms\n"
          ]
        }
      ],
      "source": [
        "timer(bases, actives, linear_burn_8_torch, mat_runner)"
      ]
    },
    {
      "cell_type": "code",
      "execution_count": 25,
      "metadata": {
        "colab": {
          "base_uri": "https://localhost:8080/"
        },
        "id": "KRNbIvPnYoVY",
        "outputId": "48de1a07-c5e8-4c11-9b5a-650891d40088"
      },
      "outputs": [
        {
          "name": "stdout",
          "output_type": "stream",
          "text": [
            "screen_blend_8_torch_with_load\n",
            "921.2759136687964ms +/- 3.3708129938868927ms\n"
          ]
        }
      ],
      "source": [
        "timer(bases, actives, screen_blend_8_torch, mat_runner)"
      ]
    },
    {
      "cell_type": "code",
      "execution_count": 26,
      "metadata": {
        "colab": {
          "base_uri": "https://localhost:8080/"
        },
        "id": "fs1-_RliYoYK",
        "outputId": "855991bc-b3d1-4324-99e9-6b02e24bef5d"
      },
      "outputs": [
        {
          "name": "stdout",
          "output_type": "stream",
          "text": [
            "linear_dodge_8_torch_with_load\n",
            "836.9474723469466ms +/- 5.603529521880382ms\n"
          ]
        }
      ],
      "source": [
        "timer(bases, actives, linear_dodge_8_torch, mat_runner)"
      ]
    },
    {
      "cell_type": "code",
      "execution_count": 27,
      "metadata": {
        "colab": {
          "base_uri": "https://localhost:8080/"
        },
        "id": "D_D_lZp-USVO",
        "outputId": "0191c9b5-e64f-437b-ab6e-a400e31dc7a8"
      },
      "outputs": [
        {
          "name": "stdout",
          "output_type": "stream",
          "text": [
            "normal_blend_f_torch_with_load\n",
            "2458.7184565141797ms +/- 39.03333054253607ms\n"
          ]
        }
      ],
      "source": [
        "timer(bases, actives, normal_blend_f_torch, vec_runner_float)"
      ]
    },
    {
      "cell_type": "code",
      "execution_count": 28,
      "metadata": {
        "colab": {
          "base_uri": "https://localhost:8080/"
        },
        "id": "Gpc8nUKlUSXa",
        "outputId": "06442fad-0fb3-43be-ca67-79a398debbf5"
      },
      "outputs": [
        {
          "name": "stdout",
          "output_type": "stream",
          "text": [
            "normal_blend_8_torch_with_load\n",
            "839.7484925109893ms +/- 4.779726011336703ms\n"
          ]
        }
      ],
      "source": [
        "timer(bases, actives, normal_blend_8_torch, vec_runner_int)"
      ]
    },
    {
      "cell_type": "code",
      "execution_count": null,
      "metadata": {},
      "outputs": [],
      "source": [
        "timer(bases, actives, dissolve_blend_8_torch, mat_runner_float)"
      ]
    }
  ],
  "metadata": {
    "accelerator": "GPU",
    "colab": {
      "gpuType": "T4",
      "provenance": [],
      "toc_visible": true
    },
    "kernelspec": {
      "display_name": "Python 3",
      "name": "python3"
    },
    "language_info": {
      "codemirror_mode": {
        "name": "ipython",
        "version": 3
      },
      "file_extension": ".py",
      "mimetype": "text/x-python",
      "name": "python",
      "nbconvert_exporter": "python",
      "pygments_lexer": "ipython3",
      "version": "3.10.13"
    }
  },
  "nbformat": 4,
  "nbformat_minor": 0
}
