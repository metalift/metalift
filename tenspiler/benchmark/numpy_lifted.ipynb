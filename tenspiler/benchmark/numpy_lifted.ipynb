{
  "cells": [
    {
      "cell_type": "code",
      "execution_count": 40,
      "metadata": {
        "id": "3Fcj9JH7G-0j"
      },
      "outputs": [],
      "source": [
        "import numpy as np\n",
        "import time\n",
        "import cv2\n",
        "import os"
      ]
    },
    {
      "cell_type": "code",
      "execution_count": 41,
      "metadata": {
        "id": "zLxZyGubTtrb"
      },
      "outputs": [],
      "source": [
        "### numpy"
      ]
    },
    {
      "cell_type": "code",
      "execution_count": 42,
      "metadata": {
        "id": "sfxRkgSURglU"
      },
      "outputs": [],
      "source": [
        "### Nested"
      ]
    },
    {
      "cell_type": "code",
      "execution_count": 43,
      "metadata": {
        "id": "5sW8bFYRUsGm"
      },
      "outputs": [],
      "source": [
        "def darken_blend_8_np(base, active):\n",
        "  return np.where(np.greater(base, active), active, base)"
      ]
    },
    {
      "cell_type": "code",
      "execution_count": 44,
      "metadata": {
        "id": "LhofMRejUsKe"
      },
      "outputs": [],
      "source": [
        "def color_burn_8_np(base, active):\n",
        "  return np.where(np.equal(active, 0.0), 255.0, 255.0 - (255.0 - base) / active)"
      ]
    },
    {
      "cell_type": "code",
      "execution_count": 45,
      "metadata": {
        "id": "oQHTB_4WUsPS"
      },
      "outputs": [],
      "source": [
        "def lighten_blend_8_np(base, active):\n",
        "  return np.where(np.less(base, active), active, base)"
      ]
    },
    {
      "cell_type": "code",
      "execution_count": 46,
      "metadata": {
        "id": "iGDkMUhlUsT5"
      },
      "outputs": [],
      "source": [
        "def color_dodge_8_np(base, active):\n",
        "  return np.where(np.equal(active, 255.0), 255.0, base / (255.0 - active))"
      ]
    },
    {
      "cell_type": "code",
      "execution_count": 47,
      "metadata": {
        "id": "u5ABMdg-UsYn"
      },
      "outputs": [],
      "source": [
        "def overlay_blend_8_np(base, active):\n",
        "  return np.where(np.greater_equal(base, 128.0), 2 * base + base - 2 * base * base / 255.0 - 128.0, 2 * base * base / 128.0)"
      ]
    },
    {
      "cell_type": "code",
      "execution_count": 48,
      "metadata": {
        "id": "EErCwOeTUsc8"
      },
      "outputs": [],
      "source": [
        "def multiply_blend_8_np(base, active):\n",
        "  return base * active / 255.0"
      ]
    },
    {
      "cell_type": "code",
      "execution_count": 49,
      "metadata": {
        "id": "8iGd1h1gUsg1"
      },
      "outputs": [],
      "source": [
        "def linear_burn_8_np(base, active):\n",
        "  return base + active - 255.0"
      ]
    },
    {
      "cell_type": "code",
      "execution_count": 50,
      "metadata": {
        "id": "0qt2hYdeUslS"
      },
      "outputs": [],
      "source": [
        "def screen_blend_8_np(base, active):\n",
        "  return base + active - base * active / 255.0"
      ]
    },
    {
      "cell_type": "code",
      "execution_count": 51,
      "metadata": {
        "id": "nudlnaGjUsrK"
      },
      "outputs": [],
      "source": [
        "def linear_dodge_8_np(base, active):\n",
        "  return base + active"
      ]
    },
    {
      "cell_type": "code",
      "execution_count": 52,
      "metadata": {
        "id": "NlHDWYncRiW6"
      },
      "outputs": [],
      "source": [
        "### Single"
      ]
    },
    {
      "cell_type": "code",
      "execution_count": 53,
      "metadata": {
        "id": "5U6MvGJJRiZU"
      },
      "outputs": [],
      "source": [
        "def normal_blend_f_np(base, active, opacity):\n",
        "  return opacity * active + (1-opacity)*base"
      ]
    },
    {
      "cell_type": "code",
      "execution_count": 54,
      "metadata": {
        "id": "I1uMM2BXRibl"
      },
      "outputs": [],
      "source": [
        "def normal_blend_8_np(base, active, opacity):\n",
        "  return opacity * active + (255.0 - opacity) * base"
      ]
    },
    {
      "cell_type": "code",
      "execution_count": null,
      "metadata": {
        "id": "4DSR3MfOY2qs"
      },
      "outputs": [],
      "source": []
    },
    {
      "cell_type": "code",
      "execution_count": 55,
      "metadata": {
        "id": "8LsXgnuDY2wH"
      },
      "outputs": [],
      "source": [
        "# Runner"
      ]
    },
    {
      "cell_type": "code",
      "execution_count": 56,
      "metadata": {
        "id": "kp2EBTkuY6Qk"
      },
      "outputs": [],
      "source": [
        "rng = np.random.default_rng(1)"
      ]
    },
    {
      "cell_type": "code",
      "execution_count": 57,
      "metadata": {},
      "outputs": [],
      "source": [
        "folder = \"./data/\"\n",
        "\n",
        "img_files = [os.path.join(folder, f) for f in os.listdir(folder) if os.path.isfile(os.path.join(folder, f))]\n",
        "\n",
        "bases = []\n",
        "actives = []\n",
        "\n",
        "for _file in img_files:\n",
        "    img = cv2.imread(_file, cv2.IMREAD_GRAYSCALE)\n",
        "    rnd = rng.random(img.shape, dtype = np.float32) * 255\n",
        "    bases.append(img)\n",
        "    actives.append(rnd)"
      ]
    },
    {
      "cell_type": "code",
      "execution_count": 58,
      "metadata": {},
      "outputs": [],
      "source": [
        "def mat_runner(bases, actives, f):\n",
        "    total_time = 0\n",
        "    for i in range(len(bases)):\n",
        "        b = bases[i]\n",
        "        a = actives[i]\n",
        "        start_time = time.perf_counter()\n",
        "        f(b, a)\n",
        "        end_time = time.perf_counter()\n",
        "        del a\n",
        "        del b\n",
        "        total_time += (end_time - start_time) * 1000\n",
        "    return total_time\n",
        "\n",
        "def vec_runner(bases, actives, f):\n",
        "    total_time = 0\n",
        "    for i in range(len(bases)):\n",
        "        b = bases[i].flatten()\n",
        "        a = actives[i].flatten()\n",
        "        opacity = rng.random(1, dtype = np.float32)\n",
        "        start_time = time.perf_counter()\n",
        "        f(b, a, opacity)\n",
        "        end_time = time.perf_counter()\n",
        "        del a\n",
        "        del b\n",
        "        total_time += (end_time - start_time) * 1000\n",
        "    return total_time\n",
        "\n",
        "def timer(bases, actives, f, runner):\n",
        "    runs = 5\n",
        "    times = []\n",
        "    for _ in range(runs):\n",
        "        times.append(runner(bases, actives, f))\n",
        "    times = np.array(times)\n",
        "    print(f\"{np.average(times)}ms +/- {np.std(times)}ms\")"
      ]
    },
    {
      "cell_type": "code",
      "execution_count": 59,
      "metadata": {
        "colab": {
          "base_uri": "https://localhost:8080/"
        },
        "id": "bmKXAn9cY-2i",
        "outputId": "3bb00b45-4cc7-4c94-d5a6-9b8faed45a35"
      },
      "outputs": [
        {
          "name": "stdout",
          "output_type": "stream",
          "text": [
            "4900.796507066116ms +/- 14.689765803660851ms\n"
          ]
        }
      ],
      "source": [
        "timer(bases, actives, darken_blend_8_np, mat_runner)"
      ]
    },
    {
      "cell_type": "code",
      "execution_count": 60,
      "metadata": {
        "colab": {
          "base_uri": "https://localhost:8080/"
        },
        "id": "2XHlgrOfY-4_",
        "outputId": "334350fe-3d33-40db-d312-816b9d7e5ec2"
      },
      "outputs": [
        {
          "name": "stderr",
          "output_type": "stream",
          "text": [
            "/tmp/ipykernel_2457541/2120156089.py:2: RuntimeWarning: divide by zero encountered in divide\n",
            "  return np.where(np.equal(active, 0.0), 255.0, 255.0 - (255.0 - base) / active)\n",
            "/tmp/ipykernel_2457541/2120156089.py:2: RuntimeWarning: invalid value encountered in divide\n",
            "  return np.where(np.equal(active, 0.0), 255.0, 255.0 - (255.0 - base) / active)\n"
          ]
        },
        {
          "name": "stdout",
          "output_type": "stream",
          "text": [
            "4601.456473628059ms +/- 52.35595380857583ms\n"
          ]
        }
      ],
      "source": [
        "timer(bases, actives, color_burn_8_np, mat_runner)"
      ]
    },
    {
      "cell_type": "code",
      "execution_count": 61,
      "metadata": {
        "colab": {
          "base_uri": "https://localhost:8080/"
        },
        "id": "dnysw22lY-7X",
        "outputId": "3dea18cf-8601-49fe-8de8-8e2b1a93d636"
      },
      "outputs": [
        {
          "name": "stdout",
          "output_type": "stream",
          "text": [
            "4907.451175572351ms +/- 26.818089681326725ms\n"
          ]
        }
      ],
      "source": [
        "timer(bases, actives, lighten_blend_8_np, mat_runner)"
      ]
    },
    {
      "cell_type": "code",
      "execution_count": 62,
      "metadata": {
        "colab": {
          "base_uri": "https://localhost:8080/"
        },
        "id": "W75fcczKY-9p",
        "outputId": "b53587e2-2d97-4624-8873-f78ed648c298"
      },
      "outputs": [
        {
          "name": "stdout",
          "output_type": "stream",
          "text": [
            "2059.3938098289073ms +/- 10.74560826905346ms\n"
          ]
        }
      ],
      "source": [
        "timer(bases, actives, color_dodge_8_np, mat_runner)"
      ]
    },
    {
      "cell_type": "code",
      "execution_count": 63,
      "metadata": {
        "colab": {
          "base_uri": "https://localhost:8080/"
        },
        "id": "CWwU_LEmY_AC",
        "outputId": "d1ff9507-22fb-4cbb-8626-ba08510a2b9b"
      },
      "outputs": [
        {
          "name": "stdout",
          "output_type": "stream",
          "text": [
            "7276.276847813278ms +/- 38.89864636360789ms\n"
          ]
        }
      ],
      "source": [
        "timer(bases, actives, overlay_blend_8_np, mat_runner)"
      ]
    },
    {
      "cell_type": "code",
      "execution_count": 64,
      "metadata": {
        "colab": {
          "base_uri": "https://localhost:8080/"
        },
        "id": "RtQB3719Y_CU",
        "outputId": "248adbff-5113-4a76-d0a4-50b506af20b1"
      },
      "outputs": [
        {
          "name": "stdout",
          "output_type": "stream",
          "text": [
            "955.734866252169ms +/- 15.603476675136935ms\n"
          ]
        }
      ],
      "source": [
        "timer(bases, actives, multiply_blend_8_np, mat_runner)"
      ]
    },
    {
      "cell_type": "code",
      "execution_count": 65,
      "metadata": {
        "colab": {
          "base_uri": "https://localhost:8080/"
        },
        "id": "SSTEC0V0Y_E8",
        "outputId": "0304bf2c-c985-452a-c2f7-23b88ab0a88d"
      },
      "outputs": [
        {
          "name": "stdout",
          "output_type": "stream",
          "text": [
            "822.7266173344105ms +/- 12.299932230623227ms\n"
          ]
        }
      ],
      "source": [
        "timer(bases, actives, linear_burn_8_np, mat_runner)"
      ]
    },
    {
      "cell_type": "code",
      "execution_count": 66,
      "metadata": {
        "colab": {
          "base_uri": "https://localhost:8080/"
        },
        "id": "LgBPplLVY_HT",
        "outputId": "1f583dba-6361-49b9-dd68-526549b07ecd"
      },
      "outputs": [
        {
          "name": "stdout",
          "output_type": "stream",
          "text": [
            "1804.7624012455344ms +/- 14.057950391944754ms\n"
          ]
        }
      ],
      "source": [
        "timer(bases, actives, screen_blend_8_np, mat_runner)"
      ]
    },
    {
      "cell_type": "code",
      "execution_count": 67,
      "metadata": {
        "colab": {
          "base_uri": "https://localhost:8080/"
        },
        "id": "SGENPuWDY_ME",
        "outputId": "b975d436-edd8-40f9-aa78-c3d9b980d8a4"
      },
      "outputs": [
        {
          "name": "stdout",
          "output_type": "stream",
          "text": [
            "659.931408520788ms +/- 3.539213676314929ms\n"
          ]
        }
      ],
      "source": [
        "timer(bases, actives, linear_dodge_8_np, mat_runner)"
      ]
    },
    {
      "cell_type": "code",
      "execution_count": 68,
      "metadata": {
        "colab": {
          "base_uri": "https://localhost:8080/"
        },
        "id": "waxNXqspWGr6",
        "outputId": "d61522a8-1742-4f1b-ea48-8676e8d3cdca"
      },
      "outputs": [
        {
          "name": "stdout",
          "output_type": "stream",
          "text": [
            "1050.687387259677ms +/- 1.7066460054735344ms\n"
          ]
        }
      ],
      "source": [
        "timer(bases, actives, normal_blend_f_np, vec_runner)"
      ]
    },
    {
      "cell_type": "code",
      "execution_count": 69,
      "metadata": {
        "colab": {
          "base_uri": "https://localhost:8080/"
        },
        "id": "N_iMeGGaWGub",
        "outputId": "d1ed6fbe-bff6-496b-cab5-f98225f03d4b"
      },
      "outputs": [
        {
          "name": "stdout",
          "output_type": "stream",
          "text": [
            "1048.7009353470057ms +/- 16.85136312652299ms\n"
          ]
        }
      ],
      "source": [
        "timer(bases, actives, normal_blend_8_np, vec_runner)"
      ]
    }
  ],
  "metadata": {
    "colab": {
      "provenance": [],
      "toc_visible": true
    },
    "kernelspec": {
      "display_name": "Python 3",
      "name": "python3"
    },
    "language_info": {
      "codemirror_mode": {
        "name": "ipython",
        "version": 3
      },
      "file_extension": ".py",
      "mimetype": "text/x-python",
      "name": "python",
      "nbconvert_exporter": "python",
      "pygments_lexer": "ipython3",
      "version": "3.10.13"
    }
  },
  "nbformat": 4,
  "nbformat_minor": 0
}
