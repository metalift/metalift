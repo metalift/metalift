{
  "cells": [
    {
      "cell_type": "code",
      "execution_count": 1,
      "metadata": {
        "id": "3Fcj9JH7G-0j"
      },
      "outputs": [
        {
          "name": "stderr",
          "output_type": "stream",
          "text": [
            "2024-01-12 17:37:23.429820: I tensorflow/core/util/port.cc:113] oneDNN custom operations are on. You may see slightly different numerical results due to floating-point round-off errors from different computation orders. To turn them off, set the environment variable `TF_ENABLE_ONEDNN_OPTS=0`.\n",
            "2024-01-12 17:37:23.530250: E external/local_xla/xla/stream_executor/cuda/cuda_dnn.cc:9261] Unable to register cuDNN factory: Attempting to register factory for plugin cuDNN when one has already been registered\n",
            "2024-01-12 17:37:23.530282: E external/local_xla/xla/stream_executor/cuda/cuda_fft.cc:607] Unable to register cuFFT factory: Attempting to register factory for plugin cuFFT when one has already been registered\n",
            "2024-01-12 17:37:23.544651: E external/local_xla/xla/stream_executor/cuda/cuda_blas.cc:1515] Unable to register cuBLAS factory: Attempting to register factory for plugin cuBLAS when one has already been registered\n",
            "2024-01-12 17:37:23.581928: I tensorflow/core/platform/cpu_feature_guard.cc:182] This TensorFlow binary is optimized to use available CPU instructions in performance-critical operations.\n",
            "To enable the following instructions: AVX2 AVX_VNNI FMA, in other operations, rebuild TensorFlow with the appropriate compiler flags.\n",
            "2024-01-12 17:37:24.055735: W tensorflow/compiler/tf2tensorrt/utils/py_utils.cc:38] TF-TRT Warning: Could not find TensorRT\n"
          ]
        }
      ],
      "source": [
        "import tensorflow as tf\n",
        "import numpy as np\n",
        "import time\n",
        "import cv2\n",
        "import os"
      ]
    },
    {
      "cell_type": "code",
      "execution_count": 2,
      "metadata": {},
      "outputs": [],
      "source": [
        "rng = np.random.default_rng(1)"
      ]
    },
    {
      "cell_type": "code",
      "execution_count": 3,
      "metadata": {},
      "outputs": [],
      "source": [
        "folder = \"./data/\"\n",
        "\n",
        "img_files = [os.path.join(folder, f) for f in os.listdir(folder) if os.path.isfile(os.path.join(folder, f))]\n",
        "\n",
        "bases = []\n",
        "actives = []\n",
        "\n",
        "for _file in img_files:\n",
        "    img = cv2.imread(_file, cv2.IMREAD_GRAYSCALE).astype(np.uint8)\n",
        "    rnd = (rng.random(img.shape, dtype = np.float32) * 255).astype(np.uint8)\n",
        "    bases.append(img)\n",
        "    actives.append(rnd)"
      ]
    },
    {
      "cell_type": "code",
      "execution_count": 4,
      "metadata": {},
      "outputs": [],
      "source": [
        "tf.random.set_seed(0)\n",
        "\n",
        "def mat_runner(bases, actives, f):\n",
        "    total_time = 0\n",
        "    for i in range(len(bases)):\n",
        "        with tf.device('/GPU:0'):\n",
        "            b = tf.convert_to_tensor(bases[i], np.uint8)\n",
        "            a = tf.convert_to_tensor(actives[i], np.uint8)\n",
        "            start_time = time.perf_counter()\n",
        "            f(b, a)\n",
        "            end_time = time.perf_counter()\n",
        "            del a\n",
        "            del b\n",
        "            \n",
        "        total_time += (end_time - start_time) * 1000\n",
        "    return total_time\n",
        "\n",
        "def mat_runner_float(bases, actives, f):\n",
        "    total_time = 0\n",
        "    for i in range(len(bases)):\n",
        "        base = bases[i].astype(np.float32)\n",
        "        active = actives[i].astype(np.float32)\n",
        "        with tf.device('/GPU:0'):\n",
        "            b = tf.convert_to_tensor(base, np.float32)\n",
        "            a = tf.convert_to_tensor(active, np.float32)\n",
        "            opacity = tf.convert_to_tensor(rng.random(1, dtype = np.float32), np.float32)\n",
        "            start_time = time.perf_counter()\n",
        "            f(b, a, opacity)\n",
        "            end_time = time.perf_counter()\n",
        "            del a\n",
        "            del b\n",
        "        \n",
        "        total_time += (end_time - start_time) * 1000\n",
        "    return total_time\n",
        "\n",
        "def vec_runner_int(bases, actives, f):\n",
        "    total_time = 0\n",
        "    for i in range(len(bases)):\n",
        "        base = bases[i].flatten()\n",
        "        active = actives[i].flatten()\n",
        "        with tf.device('/GPU:0'):\n",
        "            b = tf.convert_to_tensor(base, np.uint8)\n",
        "            a = tf.convert_to_tensor(active, np.uint8)\n",
        "            opacity = tf.convert_to_tensor(rng.random(1, dtype = np.float32).astype(np.uint8), np.uint8)\n",
        "            start_time = time.perf_counter()\n",
        "            f(b, a, opacity)\n",
        "            end_time = time.perf_counter()\n",
        "            del a\n",
        "            del b\n",
        "        \n",
        "        total_time += (end_time - start_time) * 1000\n",
        "    return total_time\n",
        "\n",
        "def vec_runner_float(bases, actives, f):\n",
        "    total_time = 0\n",
        "    for i in range(len(bases)):\n",
        "        base = bases[i].flatten().astype(np.float32)\n",
        "        active = actives[i].flatten().astype(np.float32)\n",
        "        with tf.device('/GPU:0'):\n",
        "            b = tf.convert_to_tensor(base, np.float32)\n",
        "            a = tf.convert_to_tensor(active, np.float32)\n",
        "            assert a.device.endswith('GPU:0')\n",
        "            assert b.device.endswith('GPU:0')\n",
        "            opacity = tf.convert_to_tensor(rng.random(1, dtype = np.float32), np.float32)\n",
        "            start_time = time.perf_counter()\n",
        "            f(b, a, opacity)\n",
        "            end_time = time.perf_counter()\n",
        "            del a\n",
        "            del b\n",
        "        \n",
        "        total_time += (end_time - start_time) * 1000\n",
        "    return total_time\n",
        "    \n",
        "def timer(input1, input2, f, runner):\n",
        "    runs = 10\n",
        "    times = []\n",
        "    for _ in range(runs):\n",
        "        times.append(runner(input1, input2, f))\n",
        "    times = np.array(times)\n",
        "    print(f\"{f.__name__}\")\n",
        "    print(f\"{np.average(times)}ms +/- {np.std(times)}ms\")"
      ]
    },
    {
      "cell_type": "code",
      "execution_count": null,
      "metadata": {},
      "outputs": [],
      "source": []
    },
    {
      "cell_type": "code",
      "execution_count": null,
      "metadata": {
        "id": "S7O23vFiUAto"
      },
      "outputs": [],
      "source": [
        "### Tensorflow"
      ]
    },
    {
      "cell_type": "code",
      "execution_count": null,
      "metadata": {},
      "outputs": [],
      "source": [
        "def dissolve_blend_8_tf(base, active, opacity):\n",
        "    return tf.where(tf.greater_equal(opacity - ((tf.random.uniform(tf.shape(base), 1, 2147483647) % 100) + 1) / 100, 0), active, base) "
      ]
    },
    {
      "cell_type": "code",
      "execution_count": null,
      "metadata": {
        "id": "2DxQ-niWHQk9"
      },
      "outputs": [],
      "source": [
        "def darken_blend_8_tf(base, active):\n",
        "  return tf.where(tf.greater(base, active), active, base)"
      ]
    },
    {
      "cell_type": "code",
      "execution_count": null,
      "metadata": {
        "id": "4VhqImnYHs9O"
      },
      "outputs": [],
      "source": [
        "def color_burn_8_tf(base, active):\n",
        "  return tf.where(tf.equal(active, 0), 255, (255) - (((255) - (base)) // (active)))"
      ]
    },
    {
      "cell_type": "code",
      "execution_count": null,
      "metadata": {
        "id": "8DWudgUDI5ET"
      },
      "outputs": [],
      "source": [
        "def lighten_blend_8_tf(base, active):\n",
        "  return tf.where(tf.less(base, active), active, base)"
      ]
    },
    {
      "cell_type": "code",
      "execution_count": null,
      "metadata": {
        "id": "kxWfZPjGJbnz"
      },
      "outputs": [],
      "source": [
        "def color_dodge_8_tf(base, active):\n",
        "  return tf.where(tf.equal(active, 255), 255, (base) // ((255) - (active)))"
      ]
    },
    {
      "cell_type": "code",
      "execution_count": null,
      "metadata": {
        "id": "7QfPJf-GJcqx"
      },
      "outputs": [],
      "source": [
        "def overlay_blend_8_tf(base, active):\n",
        "  return tf.where(tf.greater_equal(base, 128), ((((2) * (base)) + (base)) - ((((2) * (base)) * (base)) // (255))) - (255), (((2) * (base)) * (base)) // (255))"
      ]
    },
    {
      "cell_type": "code",
      "execution_count": null,
      "metadata": {
        "id": "ary6YsWkKlm1"
      },
      "outputs": [],
      "source": [
        "def multiply_blend_8_tf(base, active):\n",
        "  return ((base) * (active)) // (255)"
      ]
    },
    {
      "cell_type": "code",
      "execution_count": null,
      "metadata": {
        "id": "M0nF2XJFMc0G"
      },
      "outputs": [],
      "source": [
        "def linear_burn_8_tf(base, active):\n",
        "  return ((base) + (active)) - (255)"
      ]
    },
    {
      "cell_type": "code",
      "execution_count": null,
      "metadata": {
        "id": "LhNWpK-_MmGz"
      },
      "outputs": [],
      "source": [
        "def screen_blend_8_tf(base, active):\n",
        "  return ((base) + (active)) - (((base) * (active)) // (255))"
      ]
    },
    {
      "cell_type": "code",
      "execution_count": null,
      "metadata": {
        "id": "QteNknkBMzrg"
      },
      "outputs": [],
      "source": [
        "def linear_dodge_8_tf(base, active):\n",
        "  return (base) + (active)"
      ]
    },
    {
      "cell_type": "code",
      "execution_count": null,
      "metadata": {
        "id": "gOEAFLcGPAwk"
      },
      "outputs": [],
      "source": [
        "def normal_blend_f_tf(base, active, opacity):\n",
        "  return ((opacity) * (active)) + (((1) - (opacity)) * (base))"
      ]
    },
    {
      "cell_type": "code",
      "execution_count": null,
      "metadata": {
        "id": "_Wc_UrzdPA1c"
      },
      "outputs": [],
      "source": [
        "def normal_blend_8_tf(base, active, opacity):\n",
        "  return ((opacity) * (active)) + (((255) - (opacity)) * (base))"
      ]
    },
    {
      "cell_type": "code",
      "execution_count": null,
      "metadata": {
        "id": "EdqZMPcyW-Oe"
      },
      "outputs": [],
      "source": []
    },
    {
      "cell_type": "code",
      "execution_count": 108,
      "metadata": {
        "colab": {
          "base_uri": "https://localhost:8080/"
        },
        "id": "MB4shFvbXS5W",
        "outputId": "3c92ba75-4c24-4726-8226-af6ee36e02cc"
      },
      "outputs": [
        {
          "name": "stdout",
          "output_type": "stream",
          "text": [
            "darken_blend_8_tf\n",
            "214.20361720956862ms +/- 5.394366716981458ms\n"
          ]
        }
      ],
      "source": [
        "timer(bases, actives, darken_blend_8_tf, mat_runner)"
      ]
    },
    {
      "cell_type": "code",
      "execution_count": 109,
      "metadata": {
        "colab": {
          "base_uri": "https://localhost:8080/"
        },
        "id": "5qt9CDcGXS76",
        "outputId": "f7957436-d94f-4d13-b45d-a1de2550dd94"
      },
      "outputs": [
        {
          "name": "stdout",
          "output_type": "stream",
          "text": [
            "color_burn_8_tf\n",
            "733.1378387287259ms +/- 5.817201229482697ms\n"
          ]
        }
      ],
      "source": [
        "timer(bases, actives, color_burn_8_tf, mat_runner)"
      ]
    },
    {
      "cell_type": "code",
      "execution_count": 110,
      "metadata": {
        "colab": {
          "base_uri": "https://localhost:8080/"
        },
        "id": "FsRFdyK8XS-u",
        "outputId": "dfc63085-fb86-4df6-b19f-e61e18a4a3aa"
      },
      "outputs": [
        {
          "name": "stdout",
          "output_type": "stream",
          "text": [
            "lighten_blend_8_tf\n",
            "214.54936317168176ms +/- 3.055144172695127ms\n"
          ]
        }
      ],
      "source": [
        "timer(bases, actives, lighten_blend_8_tf, mat_runner)"
      ]
    },
    {
      "cell_type": "code",
      "execution_count": 111,
      "metadata": {
        "colab": {
          "base_uri": "https://localhost:8080/"
        },
        "id": "yfCHE_FtXTBV",
        "outputId": "207d25cf-d20d-495c-a050-4ee172fe1f5f"
      },
      "outputs": [
        {
          "name": "stdout",
          "output_type": "stream",
          "text": [
            "color_dodge_8_tf\n",
            "571.1265732999891ms +/- 6.46689854019949ms\n"
          ]
        }
      ],
      "source": [
        "timer(bases, actives, color_dodge_8_tf, mat_runner)"
      ]
    },
    {
      "cell_type": "code",
      "execution_count": 112,
      "metadata": {
        "colab": {
          "base_uri": "https://localhost:8080/"
        },
        "id": "JsdoO_lFXTD_",
        "outputId": "34aa5215-7869-4643-cc56-c46e224a216a"
      },
      "outputs": [
        {
          "name": "stdout",
          "output_type": "stream",
          "text": [
            "overlay_blend_8_tf\n",
            "1511.6393396165222ms +/- 13.745712152811908ms\n"
          ]
        }
      ],
      "source": [
        "timer(bases, actives, overlay_blend_8_tf, mat_runner)"
      ]
    },
    {
      "cell_type": "code",
      "execution_count": 113,
      "metadata": {
        "colab": {
          "base_uri": "https://localhost:8080/"
        },
        "id": "m_djqfuGXTGj",
        "outputId": "8bfc952b-e4c7-41c8-bd72-b870bbff5585"
      },
      "outputs": [
        {
          "name": "stdout",
          "output_type": "stream",
          "text": [
            "multiply_blend_8_tf\n",
            "260.3905257768929ms +/- 4.007972900205248ms\n"
          ]
        }
      ],
      "source": [
        "timer(bases, actives, multiply_blend_8_tf, mat_runner)"
      ]
    },
    {
      "cell_type": "code",
      "execution_count": 114,
      "metadata": {
        "colab": {
          "base_uri": "https://localhost:8080/"
        },
        "id": "BtaSpU6UXTJL",
        "outputId": "16afe2c2-83d8-4644-a6a1-498776ec688d"
      },
      "outputs": [
        {
          "name": "stdout",
          "output_type": "stream",
          "text": [
            "linear_burn_8_tf\n",
            "285.41208803653717ms +/- 5.8392000442114ms\n"
          ]
        }
      ],
      "source": [
        "timer(bases, actives, linear_burn_8_tf, mat_runner)"
      ]
    },
    {
      "cell_type": "code",
      "execution_count": 115,
      "metadata": {
        "colab": {
          "background_save": true
        },
        "id": "Ato4hHoQXTLx",
        "outputId": "b6ea2502-3fa0-4d03-a659-187d1a642a2a"
      },
      "outputs": [
        {
          "name": "stdout",
          "output_type": "stream",
          "text": [
            "screen_blend_8_tf\n",
            "510.63010660000145ms +/- 6.889555390328346ms\n"
          ]
        }
      ],
      "source": [
        "timer(bases, actives, screen_blend_8_tf, mat_runner)"
      ]
    },
    {
      "cell_type": "code",
      "execution_count": 116,
      "metadata": {
        "colab": {
          "background_save": true
        },
        "id": "FUG_RUgjXTSF",
        "outputId": "e4ce294f-fad7-4314-b685-8c4e1b9d744b"
      },
      "outputs": [
        {
          "name": "stdout",
          "output_type": "stream",
          "text": [
            "linear_dodge_8_tf\n",
            "138.55432313866913ms +/- 2.4073303672681443ms\n"
          ]
        }
      ],
      "source": [
        "timer(bases, actives, linear_dodge_8_tf, mat_runner)"
      ]
    },
    {
      "cell_type": "code",
      "execution_count": 117,
      "metadata": {
        "colab": {
          "background_save": true
        },
        "id": "9kE-EhsjThtM",
        "outputId": "acd43a97-3a42-4491-aa43-966eb2e60209"
      },
      "outputs": [
        {
          "name": "stdout",
          "output_type": "stream",
          "text": [
            "normal_blend_f_tf\n",
            "571.01951953955ms +/- 5.335591010085858ms\n"
          ]
        }
      ],
      "source": [
        "timer(bases, actives, normal_blend_f_tf, vec_runner_float)"
      ]
    },
    {
      "cell_type": "code",
      "execution_count": 118,
      "metadata": {
        "colab": {
          "background_save": true
        },
        "id": "QAbq4_HnThvs",
        "outputId": "f7593f5b-ce16-4820-f735-30a633ff3ebf"
      },
      "outputs": [
        {
          "name": "stdout",
          "output_type": "stream",
          "text": [
            "normal_blend_8_tf\n",
            "598.486645705998ms +/- 8.31914628954157ms\n"
          ]
        }
      ],
      "source": [
        "timer(bases, actives, normal_blend_8_tf, vec_runner_int)"
      ]
    },
    {
      "cell_type": "code",
      "execution_count": 26,
      "metadata": {},
      "outputs": [
        {
          "name": "stdout",
          "output_type": "stream",
          "text": [
            "<dtype: 'float32'>\n",
            "<dtype: 'float32'>\n",
            "<dtype: 'float32'>\n",
            "<dtype: 'float32'>\n",
            "<dtype: 'float32'>\n",
            "<dtype: 'float32'>\n",
            "<dtype: 'float32'>\n",
            "<dtype: 'float32'>\n",
            "<dtype: 'float32'>\n",
            "<dtype: 'float32'>\n",
            "<dtype: 'float32'>\n",
            "<dtype: 'float32'>\n",
            "<dtype: 'float32'>\n",
            "<dtype: 'float32'>\n",
            "<dtype: 'float32'>\n",
            "<dtype: 'float32'>\n",
            "<dtype: 'float32'>\n",
            "<dtype: 'float32'>\n",
            "<dtype: 'float32'>\n",
            "<dtype: 'float32'>\n",
            "<dtype: 'float32'>\n",
            "<dtype: 'float32'>\n",
            "<dtype: 'float32'>\n",
            "<dtype: 'float32'>\n",
            "<dtype: 'float32'>\n",
            "<dtype: 'float32'>\n",
            "<dtype: 'float32'>\n",
            "<dtype: 'float32'>\n",
            "<dtype: 'float32'>\n",
            "<dtype: 'float32'>\n",
            "<dtype: 'float32'>\n",
            "<dtype: 'float32'>\n",
            "<dtype: 'float32'>\n",
            "<dtype: 'float32'>\n",
            "<dtype: 'float32'>\n",
            "<dtype: 'float32'>\n",
            "<dtype: 'float32'>\n",
            "<dtype: 'float32'>\n",
            "<dtype: 'float32'>\n",
            "<dtype: 'float32'>\n",
            "<dtype: 'float32'>\n",
            "<dtype: 'float32'>\n",
            "<dtype: 'float32'>\n",
            "<dtype: 'float32'>\n",
            "<dtype: 'float32'>\n",
            "<dtype: 'float32'>\n",
            "<dtype: 'float32'>\n",
            "<dtype: 'float32'>\n",
            "<dtype: 'float32'>\n",
            "<dtype: 'float32'>\n",
            "<dtype: 'float32'>\n",
            "<dtype: 'float32'>\n",
            "<dtype: 'float32'>\n",
            "<dtype: 'float32'>\n",
            "<dtype: 'float32'>\n",
            "<dtype: 'float32'>\n",
            "<dtype: 'float32'>\n",
            "<dtype: 'float32'>\n",
            "<dtype: 'float32'>\n",
            "<dtype: 'float32'>\n",
            "<dtype: 'float32'>\n",
            "<dtype: 'float32'>\n",
            "<dtype: 'float32'>\n",
            "<dtype: 'float32'>\n",
            "<dtype: 'float32'>\n",
            "<dtype: 'float32'>\n",
            "<dtype: 'float32'>\n",
            "<dtype: 'float32'>\n",
            "<dtype: 'float32'>\n",
            "<dtype: 'float32'>\n",
            "<dtype: 'float32'>\n",
            "<dtype: 'float32'>\n",
            "<dtype: 'float32'>\n",
            "<dtype: 'float32'>\n",
            "<dtype: 'float32'>\n",
            "<dtype: 'float32'>\n",
            "<dtype: 'float32'>\n",
            "<dtype: 'float32'>\n",
            "<dtype: 'float32'>\n",
            "<dtype: 'float32'>\n",
            "<dtype: 'float32'>\n",
            "<dtype: 'float32'>\n",
            "<dtype: 'float32'>\n",
            "<dtype: 'float32'>\n",
            "<dtype: 'float32'>\n",
            "<dtype: 'float32'>\n",
            "<dtype: 'float32'>\n",
            "<dtype: 'float32'>\n",
            "<dtype: 'float32'>\n",
            "<dtype: 'float32'>\n",
            "<dtype: 'float32'>\n",
            "<dtype: 'float32'>\n",
            "<dtype: 'float32'>\n",
            "<dtype: 'float32'>\n",
            "<dtype: 'float32'>\n",
            "<dtype: 'float32'>\n",
            "<dtype: 'float32'>\n",
            "<dtype: 'float32'>\n",
            "<dtype: 'float32'>\n",
            "<dtype: 'float32'>\n",
            "<dtype: 'float32'>\n",
            "<dtype: 'float32'>\n",
            "<dtype: 'float32'>\n",
            "<dtype: 'float32'>\n",
            "<dtype: 'float32'>\n",
            "<dtype: 'float32'>\n",
            "<dtype: 'float32'>\n",
            "<dtype: 'float32'>\n",
            "<dtype: 'float32'>\n",
            "<dtype: 'float32'>\n",
            "<dtype: 'float32'>\n",
            "<dtype: 'float32'>\n",
            "<dtype: 'float32'>\n",
            "<dtype: 'float32'>\n",
            "<dtype: 'float32'>\n",
            "<dtype: 'float32'>\n",
            "<dtype: 'float32'>\n",
            "<dtype: 'float32'>\n",
            "<dtype: 'float32'>\n",
            "<dtype: 'float32'>\n",
            "<dtype: 'float32'>\n",
            "<dtype: 'float32'>\n",
            "<dtype: 'float32'>\n",
            "<dtype: 'float32'>\n",
            "<dtype: 'float32'>\n",
            "<dtype: 'float32'>\n",
            "<dtype: 'float32'>\n",
            "<dtype: 'float32'>\n",
            "<dtype: 'float32'>\n",
            "<dtype: 'float32'>\n",
            "<dtype: 'float32'>\n",
            "<dtype: 'float32'>\n",
            "<dtype: 'float32'>\n",
            "<dtype: 'float32'>\n",
            "<dtype: 'float32'>\n",
            "<dtype: 'float32'>\n",
            "<dtype: 'float32'>\n",
            "<dtype: 'float32'>\n",
            "<dtype: 'float32'>\n",
            "<dtype: 'float32'>\n",
            "<dtype: 'float32'>\n",
            "<dtype: 'float32'>\n",
            "<dtype: 'float32'>\n",
            "<dtype: 'float32'>\n",
            "<dtype: 'float32'>\n",
            "<dtype: 'float32'>\n",
            "<dtype: 'float32'>\n",
            "<dtype: 'float32'>\n",
            "<dtype: 'float32'>\n",
            "<dtype: 'float32'>\n",
            "<dtype: 'float32'>\n",
            "<dtype: 'float32'>\n",
            "<dtype: 'float32'>\n",
            "<dtype: 'float32'>\n",
            "<dtype: 'float32'>\n",
            "<dtype: 'float32'>\n",
            "<dtype: 'float32'>\n",
            "<dtype: 'float32'>\n",
            "<dtype: 'float32'>\n",
            "<dtype: 'float32'>\n",
            "<dtype: 'float32'>\n",
            "<dtype: 'float32'>\n",
            "<dtype: 'float32'>\n",
            "<dtype: 'float32'>\n",
            "<dtype: 'float32'>\n",
            "<dtype: 'float32'>\n",
            "<dtype: 'float32'>\n",
            "<dtype: 'float32'>\n",
            "<dtype: 'float32'>\n",
            "<dtype: 'float32'>\n",
            "<dtype: 'float32'>\n",
            "<dtype: 'float32'>\n",
            "<dtype: 'float32'>\n",
            "<dtype: 'float32'>\n",
            "<dtype: 'float32'>\n",
            "<dtype: 'float32'>\n",
            "<dtype: 'float32'>\n",
            "<dtype: 'float32'>\n",
            "<dtype: 'float32'>\n",
            "<dtype: 'float32'>\n",
            "<dtype: 'float32'>\n",
            "<dtype: 'float32'>\n",
            "<dtype: 'float32'>\n",
            "<dtype: 'float32'>\n",
            "<dtype: 'float32'>\n",
            "<dtype: 'float32'>\n",
            "<dtype: 'float32'>\n",
            "<dtype: 'float32'>\n",
            "<dtype: 'float32'>\n",
            "<dtype: 'float32'>\n",
            "<dtype: 'float32'>\n",
            "<dtype: 'float32'>\n",
            "<dtype: 'float32'>\n",
            "<dtype: 'float32'>\n",
            "<dtype: 'float32'>\n",
            "<dtype: 'float32'>\n",
            "<dtype: 'float32'>\n",
            "<dtype: 'float32'>\n",
            "<dtype: 'float32'>\n",
            "<dtype: 'float32'>\n",
            "<dtype: 'float32'>\n",
            "<dtype: 'float32'>\n",
            "<dtype: 'float32'>\n",
            "<dtype: 'float32'>\n",
            "<dtype: 'float32'>\n",
            "<dtype: 'float32'>\n",
            "<dtype: 'float32'>\n",
            "<dtype: 'float32'>\n",
            "<dtype: 'float32'>\n",
            "<dtype: 'float32'>\n",
            "<dtype: 'float32'>\n",
            "<dtype: 'float32'>\n",
            "<dtype: 'float32'>\n",
            "<dtype: 'float32'>\n",
            "<dtype: 'float32'>\n",
            "<dtype: 'float32'>\n",
            "<dtype: 'float32'>\n",
            "<dtype: 'float32'>\n",
            "<dtype: 'float32'>\n",
            "<dtype: 'float32'>\n",
            "<dtype: 'float32'>\n",
            "<dtype: 'float32'>\n",
            "<dtype: 'float32'>\n",
            "<dtype: 'float32'>\n",
            "<dtype: 'float32'>\n",
            "<dtype: 'float32'>\n",
            "<dtype: 'float32'>\n",
            "<dtype: 'float32'>\n",
            "<dtype: 'float32'>\n",
            "<dtype: 'float32'>\n",
            "<dtype: 'float32'>\n",
            "<dtype: 'float32'>\n",
            "<dtype: 'float32'>\n",
            "<dtype: 'float32'>\n",
            "<dtype: 'float32'>\n",
            "<dtype: 'float32'>\n",
            "<dtype: 'float32'>\n",
            "<dtype: 'float32'>\n",
            "<dtype: 'float32'>\n",
            "<dtype: 'float32'>\n",
            "<dtype: 'float32'>\n",
            "<dtype: 'float32'>\n",
            "<dtype: 'float32'>\n",
            "<dtype: 'float32'>\n",
            "<dtype: 'float32'>\n",
            "<dtype: 'float32'>\n",
            "<dtype: 'float32'>\n",
            "<dtype: 'float32'>\n",
            "<dtype: 'float32'>\n",
            "<dtype: 'float32'>\n",
            "<dtype: 'float32'>\n",
            "<dtype: 'float32'>\n",
            "<dtype: 'float32'>\n",
            "<dtype: 'float32'>\n",
            "<dtype: 'float32'>\n",
            "<dtype: 'float32'>\n",
            "<dtype: 'float32'>\n",
            "<dtype: 'float32'>\n",
            "<dtype: 'float32'>\n",
            "<dtype: 'float32'>\n",
            "<dtype: 'float32'>\n",
            "<dtype: 'float32'>\n",
            "<dtype: 'float32'>\n",
            "<dtype: 'float32'>\n",
            "<dtype: 'float32'>\n",
            "<dtype: 'float32'>\n",
            "<dtype: 'float32'>\n",
            "<dtype: 'float32'>\n",
            "<dtype: 'float32'>\n",
            "<dtype: 'float32'>\n",
            "<dtype: 'float32'>\n",
            "<dtype: 'float32'>\n",
            "<dtype: 'float32'>\n",
            "<dtype: 'float32'>\n",
            "<dtype: 'float32'>\n",
            "<dtype: 'float32'>\n",
            "<dtype: 'float32'>\n",
            "<dtype: 'float32'>\n",
            "<dtype: 'float32'>\n",
            "<dtype: 'float32'>\n",
            "<dtype: 'float32'>\n",
            "<dtype: 'float32'>\n",
            "<dtype: 'float32'>\n",
            "<dtype: 'float32'>\n",
            "<dtype: 'float32'>\n",
            "<dtype: 'float32'>\n",
            "<dtype: 'float32'>\n",
            "<dtype: 'float32'>\n",
            "<dtype: 'float32'>\n",
            "<dtype: 'float32'>\n",
            "<dtype: 'float32'>\n",
            "<dtype: 'float32'>\n",
            "<dtype: 'float32'>\n",
            "<dtype: 'float32'>\n",
            "<dtype: 'float32'>\n",
            "<dtype: 'float32'>\n",
            "<dtype: 'float32'>\n",
            "<dtype: 'float32'>\n",
            "<dtype: 'float32'>\n",
            "<dtype: 'float32'>\n",
            "<dtype: 'float32'>\n",
            "<dtype: 'float32'>\n",
            "<dtype: 'float32'>\n",
            "<dtype: 'float32'>\n",
            "<dtype: 'float32'>\n",
            "<dtype: 'float32'>\n",
            "<dtype: 'float32'>\n",
            "<dtype: 'float32'>\n",
            "<dtype: 'float32'>\n",
            "<dtype: 'float32'>\n",
            "<dtype: 'float32'>\n",
            "<dtype: 'float32'>\n",
            "<dtype: 'float32'>\n",
            "<dtype: 'float32'>\n",
            "<dtype: 'float32'>\n",
            "<dtype: 'float32'>\n",
            "<dtype: 'float32'>\n",
            "<dtype: 'float32'>\n",
            "<dtype: 'float32'>\n",
            "<dtype: 'float32'>\n",
            "<dtype: 'float32'>\n",
            "<dtype: 'float32'>\n",
            "<dtype: 'float32'>\n",
            "<dtype: 'float32'>\n",
            "<dtype: 'float32'>\n",
            "<dtype: 'float32'>\n",
            "<dtype: 'float32'>\n",
            "<dtype: 'float32'>\n",
            "<dtype: 'float32'>\n",
            "<dtype: 'float32'>\n",
            "<dtype: 'float32'>\n",
            "<dtype: 'float32'>\n",
            "<dtype: 'float32'>\n",
            "<dtype: 'float32'>\n",
            "<dtype: 'float32'>\n",
            "<dtype: 'float32'>\n",
            "<dtype: 'float32'>\n",
            "<dtype: 'float32'>\n",
            "<dtype: 'float32'>\n",
            "<dtype: 'float32'>\n",
            "<dtype: 'float32'>\n",
            "<dtype: 'float32'>\n",
            "<dtype: 'float32'>\n",
            "<dtype: 'float32'>\n",
            "<dtype: 'float32'>\n",
            "<dtype: 'float32'>\n",
            "<dtype: 'float32'>\n",
            "<dtype: 'float32'>\n",
            "<dtype: 'float32'>\n",
            "<dtype: 'float32'>\n",
            "<dtype: 'float32'>\n",
            "<dtype: 'float32'>\n",
            "<dtype: 'float32'>\n",
            "<dtype: 'float32'>\n",
            "<dtype: 'float32'>\n",
            "<dtype: 'float32'>\n",
            "<dtype: 'float32'>\n",
            "<dtype: 'float32'>\n",
            "<dtype: 'float32'>\n",
            "<dtype: 'float32'>\n",
            "<dtype: 'float32'>\n",
            "<dtype: 'float32'>\n",
            "<dtype: 'float32'>\n",
            "<dtype: 'float32'>\n",
            "<dtype: 'float32'>\n",
            "<dtype: 'float32'>\n",
            "<dtype: 'float32'>\n",
            "<dtype: 'float32'>\n",
            "<dtype: 'float32'>\n",
            "<dtype: 'float32'>\n",
            "<dtype: 'float32'>\n",
            "<dtype: 'float32'>\n",
            "<dtype: 'float32'>\n",
            "<dtype: 'float32'>\n",
            "<dtype: 'float32'>\n",
            "<dtype: 'float32'>\n",
            "<dtype: 'float32'>\n",
            "<dtype: 'float32'>\n",
            "<dtype: 'float32'>\n",
            "<dtype: 'float32'>\n",
            "<dtype: 'float32'>\n",
            "<dtype: 'float32'>\n",
            "<dtype: 'float32'>\n",
            "<dtype: 'float32'>\n",
            "<dtype: 'float32'>\n",
            "<dtype: 'float32'>\n",
            "<dtype: 'float32'>\n",
            "<dtype: 'float32'>\n",
            "<dtype: 'float32'>\n",
            "<dtype: 'float32'>\n",
            "<dtype: 'float32'>\n",
            "<dtype: 'float32'>\n",
            "<dtype: 'float32'>\n",
            "<dtype: 'float32'>\n",
            "<dtype: 'float32'>\n",
            "<dtype: 'float32'>\n",
            "<dtype: 'float32'>\n",
            "<dtype: 'float32'>\n",
            "<dtype: 'float32'>\n",
            "<dtype: 'float32'>\n",
            "<dtype: 'float32'>\n",
            "<dtype: 'float32'>\n",
            "<dtype: 'float32'>\n",
            "<dtype: 'float32'>\n",
            "<dtype: 'float32'>\n",
            "<dtype: 'float32'>\n",
            "<dtype: 'float32'>\n",
            "<dtype: 'float32'>\n",
            "<dtype: 'float32'>\n",
            "<dtype: 'float32'>\n",
            "<dtype: 'float32'>\n",
            "<dtype: 'float32'>\n",
            "<dtype: 'float32'>\n",
            "<dtype: 'float32'>\n",
            "<dtype: 'float32'>\n",
            "<dtype: 'float32'>\n",
            "<dtype: 'float32'>\n",
            "<dtype: 'float32'>\n",
            "<dtype: 'float32'>\n",
            "<dtype: 'float32'>\n",
            "<dtype: 'float32'>\n",
            "<dtype: 'float32'>\n",
            "<dtype: 'float32'>\n",
            "<dtype: 'float32'>\n",
            "<dtype: 'float32'>\n",
            "<dtype: 'float32'>\n",
            "<dtype: 'float32'>\n",
            "<dtype: 'float32'>\n",
            "<dtype: 'float32'>\n",
            "<dtype: 'float32'>\n",
            "<dtype: 'float32'>\n",
            "<dtype: 'float32'>\n",
            "<dtype: 'float32'>\n",
            "<dtype: 'float32'>\n",
            "<dtype: 'float32'>\n",
            "<dtype: 'float32'>\n",
            "<dtype: 'float32'>\n",
            "<dtype: 'float32'>\n",
            "<dtype: 'float32'>\n",
            "<dtype: 'float32'>\n",
            "<dtype: 'float32'>\n",
            "<dtype: 'float32'>\n",
            "<dtype: 'float32'>\n",
            "<dtype: 'float32'>\n",
            "<dtype: 'float32'>\n",
            "<dtype: 'float32'>\n",
            "<dtype: 'float32'>\n",
            "<dtype: 'float32'>\n",
            "<dtype: 'float32'>\n",
            "<dtype: 'float32'>\n",
            "<dtype: 'float32'>\n",
            "<dtype: 'float32'>\n",
            "<dtype: 'float32'>\n",
            "<dtype: 'float32'>\n",
            "<dtype: 'float32'>\n",
            "<dtype: 'float32'>\n",
            "<dtype: 'float32'>\n",
            "<dtype: 'float32'>\n",
            "<dtype: 'float32'>\n",
            "<dtype: 'float32'>\n",
            "<dtype: 'float32'>\n",
            "<dtype: 'float32'>\n",
            "<dtype: 'float32'>\n",
            "<dtype: 'float32'>\n",
            "<dtype: 'float32'>\n",
            "<dtype: 'float32'>\n",
            "<dtype: 'float32'>\n",
            "<dtype: 'float32'>\n",
            "<dtype: 'float32'>\n",
            "<dtype: 'float32'>\n",
            "<dtype: 'float32'>\n",
            "<dtype: 'float32'>\n",
            "<dtype: 'float32'>\n",
            "<dtype: 'float32'>\n",
            "<dtype: 'float32'>\n",
            "<dtype: 'float32'>\n",
            "<dtype: 'float32'>\n",
            "<dtype: 'float32'>\n",
            "<dtype: 'float32'>\n",
            "<dtype: 'float32'>\n",
            "<dtype: 'float32'>\n",
            "<dtype: 'float32'>\n",
            "<dtype: 'float32'>\n",
            "<dtype: 'float32'>\n",
            "<dtype: 'float32'>\n",
            "<dtype: 'float32'>\n",
            "<dtype: 'float32'>\n",
            "<dtype: 'float32'>\n",
            "<dtype: 'float32'>\n",
            "<dtype: 'float32'>\n",
            "<dtype: 'float32'>\n",
            "<dtype: 'float32'>\n",
            "<dtype: 'float32'>\n",
            "<dtype: 'float32'>\n",
            "<dtype: 'float32'>\n",
            "<dtype: 'float32'>\n",
            "<dtype: 'float32'>\n",
            "<dtype: 'float32'>\n",
            "<dtype: 'float32'>\n",
            "<dtype: 'float32'>\n",
            "<dtype: 'float32'>\n",
            "<dtype: 'float32'>\n",
            "<dtype: 'float32'>\n",
            "<dtype: 'float32'>\n",
            "<dtype: 'float32'>\n",
            "<dtype: 'float32'>\n",
            "<dtype: 'float32'>\n",
            "<dtype: 'float32'>\n",
            "<dtype: 'float32'>\n",
            "<dtype: 'float32'>\n",
            "dissolve_blend_8_tf\n",
            "195.4027872532606ms +/- 4.1487350956569475ms\n"
          ]
        }
      ],
      "source": [
        "timer(bases, actives, dissolve_blend_8_tf, mat_runner_float)"
      ]
    }
  ],
  "metadata": {
    "accelerator": "GPU",
    "colab": {
      "provenance": []
    },
    "kernelspec": {
      "display_name": "Python 3",
      "name": "python3"
    },
    "language_info": {
      "codemirror_mode": {
        "name": "ipython",
        "version": 3
      },
      "file_extension": ".py",
      "mimetype": "text/x-python",
      "name": "python",
      "nbconvert_exporter": "python",
      "pygments_lexer": "ipython3",
      "version": "3.9.18"
    }
  },
  "nbformat": 4,
  "nbformat_minor": 0
}
