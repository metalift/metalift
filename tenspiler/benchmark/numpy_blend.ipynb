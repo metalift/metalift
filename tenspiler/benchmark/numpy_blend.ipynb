{
  "cells": [
    {
      "cell_type": "code",
      "execution_count": 1,
      "metadata": {
        "id": "3Fcj9JH7G-0j"
      },
      "outputs": [],
      "source": [
        "import numpy as np\n",
        "import time\n",
        "import cv2\n",
        "import os"
      ]
    },
    {
      "cell_type": "code",
      "execution_count": 2,
      "metadata": {},
      "outputs": [],
      "source": [
        "rng = np.random.default_rng(1)"
      ]
    },
    {
      "cell_type": "code",
      "execution_count": 3,
      "metadata": {},
      "outputs": [],
      "source": [
        "folder = \"./data/\"\n",
        "\n",
        "img_files = [os.path.join(folder, f) for f in os.listdir(folder) if os.path.isfile(os.path.join(folder, f))]\n",
        "\n",
        "bases = []\n",
        "actives = []\n",
        "\n",
        "for _file in img_files:\n",
        "    img = cv2.imread(_file, cv2.IMREAD_GRAYSCALE).astype(np.uint8)\n",
        "    rnd = (rng.random(img.shape, dtype = np.float32) * 255).astype(np.uint8)\n",
        "    bases.append(img)\n",
        "    actives.append(rnd)"
      ]
    },
    {
      "cell_type": "code",
      "execution_count": 5,
      "metadata": {},
      "outputs": [],
      "source": [
        "np.random.seed(0)\n",
        "\n",
        "def mat_runner(bases, actives, f):\n",
        "    total_time = 0\n",
        "    for i in range(len(bases)):\n",
        "        b = bases[i]\n",
        "        a = actives[i]\n",
        "        start_time = time.perf_counter()\n",
        "        f(b, a)\n",
        "        end_time = time.perf_counter()\n",
        "        del a\n",
        "        del b\n",
        "        total_time += (end_time - start_time) * 1000\n",
        "    return total_time\n",
        "\n",
        "def mat_runner_float(bases, actives, f):\n",
        "    total_time = 0\n",
        "    for i in range(len(bases)):\n",
        "        b = bases[i].astype(np.float32)\n",
        "        a = actives[i].astype(np.float32)\n",
        "        opacity = rng.random(1, dtype = np.float32)\n",
        "        start_time = time.perf_counter()\n",
        "        f(b, a, opacity)\n",
        "        end_time = time.perf_counter()\n",
        "        del a\n",
        "        del b\n",
        "        total_time += (end_time - start_time) * 1000\n",
        "    return total_time\n",
        "\n",
        "def vec_runner_int(bases, actives, f):\n",
        "    total_time = 0\n",
        "    for i in range(len(bases)):\n",
        "        b = bases[i].flatten()\n",
        "        a = actives[i].flatten()\n",
        "        opacity = rng.random(1, dtype = np.float32).astype(np.uint8)\n",
        "        start_time = time.perf_counter()\n",
        "        f(b, a, opacity)\n",
        "        end_time = time.perf_counter()\n",
        "        del a\n",
        "        del b\n",
        "        total_time += (end_time - start_time) * 1000\n",
        "    return total_time\n",
        "\n",
        "def vec_runner_float(bases, actives, f):\n",
        "    total_time = 0\n",
        "    for i in range(len(bases)):\n",
        "        b = bases[i].flatten().astype(np.float32)\n",
        "        a = actives[i].flatten().astype(np.float32)\n",
        "        opacity = rng.random(1, dtype = np.float32)\n",
        "        start_time = time.perf_counter()\n",
        "        f(b, a, opacity)\n",
        "        end_time = time.perf_counter()\n",
        "        del a\n",
        "        del b\n",
        "        total_time += (end_time - start_time) * 1000\n",
        "    return total_time\n",
        "\n",
        "def timer(input1, input2, f, runner):\n",
        "    runs = 10\n",
        "    times = []\n",
        "    for _ in range(runs):\n",
        "        times.append(runner(input1, input2, f))\n",
        "    times = np.array(times)\n",
        "    print(f\"{f.__name__}\")\n",
        "    print(f\"{np.average(times)}ms +/- {np.std(times)}ms\")"
      ]
    },
    {
      "cell_type": "code",
      "execution_count": 5,
      "metadata": {
        "id": "sfxRkgSURglU"
      },
      "outputs": [],
      "source": [
        "### NUMPY"
      ]
    },
    {
      "cell_type": "code",
      "execution_count": null,
      "metadata": {},
      "outputs": [],
      "source": [
        "def dissolve_blend_8_np(base, active, opacity):\n",
        "  return np.where((opacity) - (((np.random.randint(1, 2147483647, base.shape) % (100)) + (1)) // (100)) >= 0, active, base)"
      ]
    },
    {
      "cell_type": "code",
      "execution_count": 6,
      "metadata": {
        "id": "5sW8bFYRUsGm"
      },
      "outputs": [],
      "source": [
        "def darken_blend_8_np(base, active):\n",
        "  return np.where(np.greater(base, active), active, base)"
      ]
    },
    {
      "cell_type": "code",
      "execution_count": 7,
      "metadata": {
        "id": "LhofMRejUsKe"
      },
      "outputs": [],
      "source": [
        "def color_burn_8_np(base, active):\n",
        "  return np.where(np.equal(active, 0), 255, (255) - (((255) - (base)) // (active)))"
      ]
    },
    {
      "cell_type": "code",
      "execution_count": 8,
      "metadata": {
        "id": "oQHTB_4WUsPS"
      },
      "outputs": [],
      "source": [
        "def lighten_blend_8_np(base, active):\n",
        "  return np.where(np.less(base, active), active, base)"
      ]
    },
    {
      "cell_type": "code",
      "execution_count": 9,
      "metadata": {
        "id": "iGDkMUhlUsT5"
      },
      "outputs": [],
      "source": [
        "def color_dodge_8_np(base, active):\n",
        "  return np.where(np.equal(active, 255), 255, (base) // ((255) - (active)))"
      ]
    },
    {
      "cell_type": "code",
      "execution_count": 10,
      "metadata": {
        "id": "u5ABMdg-UsYn"
      },
      "outputs": [],
      "source": [
        "def overlay_blend_8_np(base, active):\n",
        "  return np.where(np.greater_equal(base, 128), ((((2) * (base)) + (base)) - ((((2) * (base)) * (base)) // (255))) - (255), (((2) * (base)) * (base)) // (255))"
      ]
    },
    {
      "cell_type": "code",
      "execution_count": 11,
      "metadata": {
        "id": "EErCwOeTUsc8"
      },
      "outputs": [],
      "source": [
        "def multiply_blend_8_np(base, active):\n",
        "  return ((base) * (active)) // (255)"
      ]
    },
    {
      "cell_type": "code",
      "execution_count": 12,
      "metadata": {
        "id": "8iGd1h1gUsg1"
      },
      "outputs": [],
      "source": [
        "def linear_burn_8_np(base, active):\n",
        "  return ((base) + (active)) - (255)"
      ]
    },
    {
      "cell_type": "code",
      "execution_count": 13,
      "metadata": {
        "id": "0qt2hYdeUslS"
      },
      "outputs": [],
      "source": [
        "def screen_blend_8_np(base, active):\n",
        "  return ((base) + (active)) - (((base) * (active)) // (255))"
      ]
    },
    {
      "cell_type": "code",
      "execution_count": 14,
      "metadata": {
        "id": "nudlnaGjUsrK"
      },
      "outputs": [],
      "source": [
        "def linear_dodge_8_np(base, active):\n",
        "  return (base) + (active)"
      ]
    },
    {
      "cell_type": "code",
      "execution_count": 16,
      "metadata": {
        "id": "5U6MvGJJRiZU"
      },
      "outputs": [],
      "source": [
        "def normal_blend_f_np(base, active, opacity):\n",
        "  return ((opacity) * (active)) + (((1) - (opacity)) * (base))"
      ]
    },
    {
      "cell_type": "code",
      "execution_count": 17,
      "metadata": {
        "id": "I1uMM2BXRibl"
      },
      "outputs": [],
      "source": [
        "def normal_blend_8_np(base, active, opacity):\n",
        "  return ((opacity) * (active)) + (((255) - (opacity)) * (base))"
      ]
    },
    {
      "cell_type": "code",
      "execution_count": null,
      "metadata": {
        "id": "4DSR3MfOY2qs"
      },
      "outputs": [],
      "source": []
    },
    {
      "cell_type": "code",
      "execution_count": 18,
      "metadata": {
        "colab": {
          "base_uri": "https://localhost:8080/"
        },
        "id": "bmKXAn9cY-2i",
        "outputId": "3bb00b45-4cc7-4c94-d5a6-9b8faed45a35"
      },
      "outputs": [
        {
          "name": "stdout",
          "output_type": "stream",
          "text": [
            "darken_blend_8_np\n",
            "56.14498183131218ms +/- 0.7112932226440771ms\n"
          ]
        }
      ],
      "source": [
        "timer(bases, actives, darken_blend_8_np, mat_runner)"
      ]
    },
    {
      "cell_type": "code",
      "execution_count": 19,
      "metadata": {
        "colab": {
          "base_uri": "https://localhost:8080/"
        },
        "id": "2XHlgrOfY-4_",
        "outputId": "334350fe-3d33-40db-d312-816b9d7e5ec2"
      },
      "outputs": [
        {
          "name": "stderr",
          "output_type": "stream",
          "text": [
            "/tmp/ipykernel_2928722/3293817414.py:2: RuntimeWarning: divide by zero encountered in floor_divide\n",
            "  return np.where(np.equal(active, 0), 255, 255 - (255 - base) // active)\n"
          ]
        },
        {
          "name": "stdout",
          "output_type": "stream",
          "text": [
            "color_burn_8_np\n",
            "43.834238359704614ms +/- 0.6384348110282989ms\n"
          ]
        }
      ],
      "source": [
        "timer(bases, actives, color_burn_8_np, mat_runner)"
      ]
    },
    {
      "cell_type": "code",
      "execution_count": 20,
      "metadata": {
        "colab": {
          "base_uri": "https://localhost:8080/"
        },
        "id": "dnysw22lY-7X",
        "outputId": "3dea18cf-8601-49fe-8de8-8e2b1a93d636"
      },
      "outputs": [
        {
          "name": "stdout",
          "output_type": "stream",
          "text": [
            "lighten_blend_8_np\n",
            "55.87240308523178ms +/- 0.5146395649558829ms\n"
          ]
        }
      ],
      "source": [
        "timer(bases, actives, lighten_blend_8_np, mat_runner)"
      ]
    },
    {
      "cell_type": "code",
      "execution_count": 21,
      "metadata": {
        "colab": {
          "base_uri": "https://localhost:8080/"
        },
        "id": "W75fcczKY-9p",
        "outputId": "b53587e2-2d97-4624-8873-f78ed648c298"
      },
      "outputs": [
        {
          "name": "stdout",
          "output_type": "stream",
          "text": [
            "color_dodge_8_np\n",
            "41.16864916868508ms +/- 0.543032939644061ms\n"
          ]
        }
      ],
      "source": [
        "timer(bases, actives, color_dodge_8_np, mat_runner)"
      ]
    },
    {
      "cell_type": "code",
      "execution_count": 22,
      "metadata": {
        "colab": {
          "base_uri": "https://localhost:8080/"
        },
        "id": "CWwU_LEmY_AC",
        "outputId": "d1ff9507-22fb-4cbb-8626-ba08510a2b9b"
      },
      "outputs": [
        {
          "name": "stdout",
          "output_type": "stream",
          "text": [
            "overlay_blend_8_np\n",
            "27.25212574005127ms +/- 0.579266697866349ms\n"
          ]
        }
      ],
      "source": [
        "timer(bases, actives, overlay_blend_8_np, mat_runner)"
      ]
    },
    {
      "cell_type": "code",
      "execution_count": 23,
      "metadata": {
        "colab": {
          "base_uri": "https://localhost:8080/"
        },
        "id": "RtQB3719Y_CU",
        "outputId": "248adbff-5113-4a76-d0a4-50b506af20b1"
      },
      "outputs": [
        {
          "name": "stdout",
          "output_type": "stream",
          "text": [
            "multiply_blend_8_np\n",
            "3.1837795861065388ms +/- 0.20199960962185773ms\n"
          ]
        }
      ],
      "source": [
        "timer(bases, actives, multiply_blend_8_np, mat_runner)"
      ]
    },
    {
      "cell_type": "code",
      "execution_count": 24,
      "metadata": {
        "colab": {
          "base_uri": "https://localhost:8080/"
        },
        "id": "SSTEC0V0Y_E8",
        "outputId": "0304bf2c-c985-452a-c2f7-23b88ab0a88d"
      },
      "outputs": [
        {
          "name": "stdout",
          "output_type": "stream",
          "text": [
            "linear_burn_8_np\n",
            "2.4688614532351494ms +/- 0.1701552338449329ms\n"
          ]
        }
      ],
      "source": [
        "timer(bases, actives, linear_burn_8_np, mat_runner)"
      ]
    },
    {
      "cell_type": "code",
      "execution_count": 25,
      "metadata": {
        "colab": {
          "base_uri": "https://localhost:8080/"
        },
        "id": "LgBPplLVY_HT",
        "outputId": "1f583dba-6361-49b9-dd68-526549b07ecd"
      },
      "outputs": [
        {
          "name": "stdout",
          "output_type": "stream",
          "text": [
            "screen_blend_8_np\n",
            "4.887284012511373ms +/- 0.2459709687968512ms\n"
          ]
        }
      ],
      "source": [
        "timer(bases, actives, screen_blend_8_np, mat_runner)"
      ]
    },
    {
      "cell_type": "code",
      "execution_count": 26,
      "metadata": {
        "colab": {
          "base_uri": "https://localhost:8080/"
        },
        "id": "SGENPuWDY_ME",
        "outputId": "b975d436-edd8-40f9-aa78-c3d9b980d8a4"
      },
      "outputs": [
        {
          "name": "stdout",
          "output_type": "stream",
          "text": [
            "linear_dodge_8_np\n",
            "1.9644997082650661ms +/- 0.1557456839519575ms\n"
          ]
        }
      ],
      "source": [
        "timer(bases, actives, linear_dodge_8_np, mat_runner)"
      ]
    },
    {
      "cell_type": "code",
      "execution_count": 27,
      "metadata": {
        "colab": {
          "base_uri": "https://localhost:8080/"
        },
        "id": "waxNXqspWGr6",
        "outputId": "d61522a8-1742-4f1b-ea48-8676e8d3cdca"
      },
      "outputs": [
        {
          "name": "stdout",
          "output_type": "stream",
          "text": [
            "normal_blend_f_np\n",
            "15.81684397533536ms +/- 0.5334233436003933ms\n"
          ]
        }
      ],
      "source": [
        "timer(bases, actives, normal_blend_f_np, vec_runner_float)"
      ]
    },
    {
      "cell_type": "code",
      "execution_count": 28,
      "metadata": {
        "colab": {
          "base_uri": "https://localhost:8080/"
        },
        "id": "N_iMeGGaWGub",
        "outputId": "d1ed6fbe-bff6-496b-cab5-f98225f03d4b"
      },
      "outputs": [
        {
          "name": "stdout",
          "output_type": "stream",
          "text": [
            "normal_blend_8_np\n",
            "2.662988007068634ms +/- 0.18669919775283733ms\n"
          ]
        }
      ],
      "source": [
        "timer(bases, actives, normal_blend_8_np, vec_runner_int)"
      ]
    },
    {
      "cell_type": "code",
      "execution_count": 10,
      "metadata": {},
      "outputs": [
        {
          "name": "stdout",
          "output_type": "stream",
          "text": [
            "dissolve_blend_8_np\n",
            "105.60254282318056ms +/- 4.329192122020533ms\n"
          ]
        }
      ],
      "source": [
        "timer(bases, actives, dissolve_blend_8_np, mat_runner_float)"
      ]
    }
  ],
  "metadata": {
    "colab": {
      "provenance": [],
      "toc_visible": true
    },
    "kernelspec": {
      "display_name": "Python 3",
      "name": "python3"
    },
    "language_info": {
      "codemirror_mode": {
        "name": "ipython",
        "version": 3
      },
      "file_extension": ".py",
      "mimetype": "text/x-python",
      "name": "python",
      "nbconvert_exporter": "python",
      "pygments_lexer": "ipython3",
      "version": "3.9.18"
    }
  },
  "nbformat": 4,
  "nbformat_minor": 0
}
