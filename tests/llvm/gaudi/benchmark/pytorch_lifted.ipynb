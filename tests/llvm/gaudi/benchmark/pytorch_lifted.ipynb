{
  "cells": [
    {
      "cell_type": "code",
      "execution_count": 1,
      "metadata": {
        "id": "3Fcj9JH7G-0j"
      },
      "outputs": [],
      "source": [
        "import torch\n",
        "import numpy as np\n",
        "import time\n",
        "import cv2\n",
        "import os"
      ]
    },
    {
      "cell_type": "code",
      "execution_count": 2,
      "metadata": {
        "id": "zLxZyGubTtrb"
      },
      "outputs": [],
      "source": [
        "### PyTorch"
      ]
    },
    {
      "cell_type": "code",
      "execution_count": 3,
      "metadata": {
        "id": "HB_pcbzQUUYs"
      },
      "outputs": [],
      "source": [
        "const255torch = torch.tensor(255.0)\n",
        "const128torch = torch.tensor(128.0)"
      ]
    },
    {
      "cell_type": "code",
      "execution_count": 4,
      "metadata": {
        "id": "Bvs7Taz9RSF6"
      },
      "outputs": [],
      "source": [
        "### Nested"
      ]
    },
    {
      "cell_type": "code",
      "execution_count": 5,
      "metadata": {
        "id": "5sW8bFYRUsGm"
      },
      "outputs": [],
      "source": [
        "def darken_blend_8_torch(base, active):\n",
        "  return torch.where(torch.greater(base, active), active, base)"
      ]
    },
    {
      "cell_type": "code",
      "execution_count": 6,
      "metadata": {
        "id": "LhofMRejUsKe"
      },
      "outputs": [],
      "source": [
        "def color_burn_8_torch(base, active):\n",
        "  return torch.where(torch.eq(active, 0), const255torch, const255torch - (const255torch - base) / active)"
      ]
    },
    {
      "cell_type": "code",
      "execution_count": 7,
      "metadata": {
        "id": "oQHTB_4WUsPS"
      },
      "outputs": [],
      "source": [
        "def lighten_blend_8_torch(base, active):\n",
        "  return torch.where(torch.less(base, active), active, base)"
      ]
    },
    {
      "cell_type": "code",
      "execution_count": 8,
      "metadata": {
        "id": "iGDkMUhlUsT5"
      },
      "outputs": [],
      "source": [
        "def color_dodge_8_torch(base, active):\n",
        "  return torch.where(torch.eq(active, const255torch), const255torch, base / (const255torch - active))"
      ]
    },
    {
      "cell_type": "code",
      "execution_count": 9,
      "metadata": {
        "id": "u5ABMdg-UsYn"
      },
      "outputs": [],
      "source": [
        "def overlay_blend_8_torch(base, active):\n",
        "  return torch.where(torch.greater_equal(base, const128torch), 2 * base + base - 2 * base * base / const255torch - const128torch, 2 * base * base / const128torch)"
      ]
    },
    {
      "cell_type": "code",
      "execution_count": 10,
      "metadata": {
        "id": "EErCwOeTUsc8"
      },
      "outputs": [],
      "source": [
        "def multiply_blend_8_torch(base, active):\n",
        "  return base * active / const255torch"
      ]
    },
    {
      "cell_type": "code",
      "execution_count": 11,
      "metadata": {
        "id": "8iGd1h1gUsg1"
      },
      "outputs": [],
      "source": [
        "def linear_burn_8_torch(base, active):\n",
        "  return base + active - const255torch"
      ]
    },
    {
      "cell_type": "code",
      "execution_count": 12,
      "metadata": {
        "id": "0qt2hYdeUslS"
      },
      "outputs": [],
      "source": [
        "def screen_blend_8_torch(base, active):\n",
        "  return base + active - base * active / const255torch"
      ]
    },
    {
      "cell_type": "code",
      "execution_count": 13,
      "metadata": {
        "id": "nudlnaGjUsrK"
      },
      "outputs": [],
      "source": [
        "def linear_dodge_8_torch(base, active):\n",
        "  return base + active"
      ]
    },
    {
      "cell_type": "code",
      "execution_count": 14,
      "metadata": {
        "id": "ZmB47LCHYCBS"
      },
      "outputs": [],
      "source": [
        "### Single"
      ]
    },
    {
      "cell_type": "code",
      "execution_count": 15,
      "metadata": {
        "id": "KfFDKDECRXAI"
      },
      "outputs": [],
      "source": [
        "def normal_blend_f_torch(base, active, opacity):\n",
        "  return opacity * active + (1-opacity)*base"
      ]
    },
    {
      "cell_type": "code",
      "execution_count": 16,
      "metadata": {
        "id": "xf1U5M15RXCv"
      },
      "outputs": [],
      "source": [
        "def normal_blend_8_torch(base, active, opacity):\n",
        "  return opacity * active + (const255torch - opacity) * base"
      ]
    },
    {
      "cell_type": "code",
      "execution_count": null,
      "metadata": {
        "id": "bV44qa89RXFD"
      },
      "outputs": [],
      "source": []
    },
    {
      "cell_type": "code",
      "execution_count": 17,
      "metadata": {
        "id": "pdEC-wgZYCDV"
      },
      "outputs": [],
      "source": [
        "### Runner"
      ]
    },
    {
      "cell_type": "code",
      "execution_count": 18,
      "metadata": {
        "id": "HyrZAHwYYDWc"
      },
      "outputs": [],
      "source": [
        "size = 512\n",
        "np.random.seed(1)\n",
        "device = 'cuda' if torch.cuda.is_available() else 'cpu'\n",
        "\n",
        "list1 = np.random.rand(size).astype('float32')\n",
        "list2 = np.random.rand(size).astype('float32')\n",
        "list3 = np.random.rand(size)\n",
        "list1 = torch.from_numpy(list1).to(device)\n",
        "list2 = torch.from_numpy(list2).to(device)\n",
        "\n",
        "int1 = torch.from_numpy(np.random.rand(1).astype('float32')).to(device)"
      ]
    },
    {
      "cell_type": "code",
      "execution_count": 19,
      "metadata": {},
      "outputs": [],
      "source": [
        "folder = \"./data/\"\n",
        "\n",
        "img_files = [os.path.join(folder, f) for f in os.listdir(folder) if os.path.isfile(os.path.join(folder, f))]\n",
        "\n",
        "bases = []\n",
        "actives = []\n",
        "\n",
        "for _file in img_files:\n",
        "    img = cv2.imread(_file, cv2.IMREAD_GRAYSCALE)\n",
        "    rnd = np.random.rand(*img.shape).astype('float32')\n",
        "\n",
        "    bases.append(img)\n",
        "    actives.append(rnd)"
      ]
    },
    {
      "cell_type": "code",
      "execution_count": 20,
      "metadata": {},
      "outputs": [],
      "source": [
        "def runner(bases, actives, f):\n",
        "    total_time = 0\n",
        "    for i in range(len(bases)):\n",
        "        b = torch.from_numpy(bases[i]).to(device)\n",
        "        a = torch.from_numpy(actives[i]).to(device)\n",
        "        start_time = time.perf_counter()\n",
        "        f(b, a)\n",
        "        end_time = time.perf_counter()\n",
        "        del a\n",
        "        del b\n",
        "        total_time += (end_time - start_time) * 1000\n",
        "    return total_time\n",
        "\n",
        "def mat_timer(bases, actives, f):\n",
        "    runs = 5\n",
        "    times = []\n",
        "    for _ in range(runs):\n",
        "        times.append(runner(bases, actives, f))\n",
        "    times = np.array(times)\n",
        "    print(f\"{np.average(times)}ms +/- {np.std(times)}ms\")"
      ]
    },
    {
      "cell_type": "code",
      "execution_count": 21,
      "metadata": {
        "colab": {
          "base_uri": "https://localhost:8080/"
        },
        "id": "dKkcjRA0YmzU",
        "outputId": "27860dd5-35e7-47eb-dc1e-4938eeb8228a"
      },
      "outputs": [
        {
          "name": "stdout",
          "output_type": "stream",
          "text": [
            "94.31348419748247ms +/- 6.106954591227638ms\n"
          ]
        }
      ],
      "source": [
        "mat_timer(bases, actives, darken_blend_8_torch)"
      ]
    },
    {
      "cell_type": "code",
      "execution_count": 22,
      "metadata": {
        "colab": {
          "base_uri": "https://localhost:8080/"
        },
        "id": "w10sRAzDYoGT",
        "outputId": "26ea9977-2372-489b-8065-a8742e0b8ae8"
      },
      "outputs": [
        {
          "name": "stdout",
          "output_type": "stream",
          "text": [
            "231.12374413758516ms +/- 4.916791931777994ms\n"
          ]
        }
      ],
      "source": [
        "mat_timer(bases, actives, color_burn_8_torch)"
      ]
    },
    {
      "cell_type": "code",
      "execution_count": 23,
      "metadata": {
        "colab": {
          "base_uri": "https://localhost:8080/"
        },
        "id": "aA7sz7X6YoJO",
        "outputId": "6ba40a4f-490a-4980-ddec-46063f70c438"
      },
      "outputs": [
        {
          "name": "stdout",
          "output_type": "stream",
          "text": [
            "90.37575870752335ms +/- 1.0758306560045938ms\n"
          ]
        }
      ],
      "source": [
        "mat_timer(bases, actives, lighten_blend_8_torch)"
      ]
    },
    {
      "cell_type": "code",
      "execution_count": 24,
      "metadata": {
        "colab": {
          "base_uri": "https://localhost:8080/"
        },
        "id": "hFkhLQ-bYoLn",
        "outputId": "5724d50e-371e-4a8d-e730-254298c4fc67"
      },
      "outputs": [
        {
          "name": "stdout",
          "output_type": "stream",
          "text": [
            "194.29245134815574ms +/- 3.0867953378090833ms\n"
          ]
        }
      ],
      "source": [
        "mat_timer(bases, actives, color_dodge_8_torch)"
      ]
    },
    {
      "cell_type": "code",
      "execution_count": 25,
      "metadata": {
        "colab": {
          "base_uri": "https://localhost:8080/"
        },
        "id": "eIahWffgYoN_",
        "outputId": "9fbc19db-77ad-4278-8365-6a923b20855e"
      },
      "outputs": [
        {
          "name": "stdout",
          "output_type": "stream",
          "text": [
            "335.55151484906673ms +/- 2.671636618538504ms\n"
          ]
        }
      ],
      "source": [
        "mat_timer(bases, actives, overlay_blend_8_torch) "
      ]
    },
    {
      "cell_type": "code",
      "execution_count": 26,
      "metadata": {
        "colab": {
          "base_uri": "https://localhost:8080/"
        },
        "id": "iwZqD1uQYoQQ",
        "outputId": "6d4246b4-4264-463f-99bb-e4a89f19e2bf"
      },
      "outputs": [
        {
          "name": "stdout",
          "output_type": "stream",
          "text": [
            "59.6296947915107ms +/- 0.5539678870297035ms\n"
          ]
        }
      ],
      "source": [
        "mat_timer(bases, actives, multiply_blend_8_torch)"
      ]
    },
    {
      "cell_type": "code",
      "execution_count": 27,
      "metadata": {
        "colab": {
          "base_uri": "https://localhost:8080/"
        },
        "id": "rE3ASPNsYoSy",
        "outputId": "04521810-5d62-4282-d342-d2cf717e1a1a"
      },
      "outputs": [
        {
          "name": "stdout",
          "output_type": "stream",
          "text": [
            "59.55152353271842ms +/- 0.6578866682008498ms\n"
          ]
        }
      ],
      "source": [
        "mat_timer(bases, actives, linear_burn_8_torch)"
      ]
    },
    {
      "cell_type": "code",
      "execution_count": 28,
      "metadata": {
        "colab": {
          "base_uri": "https://localhost:8080/"
        },
        "id": "KRNbIvPnYoVY",
        "outputId": "48de1a07-c5e8-4c11-9b5a-650891d40088"
      },
      "outputs": [
        {
          "name": "stdout",
          "output_type": "stream",
          "text": [
            "110.6073911767453ms +/- 0.2183459339447234ms\n"
          ]
        }
      ],
      "source": [
        "mat_timer(bases, actives, screen_blend_8_torch)"
      ]
    },
    {
      "cell_type": "code",
      "execution_count": 29,
      "metadata": {
        "colab": {
          "base_uri": "https://localhost:8080/"
        },
        "id": "fs1-_RliYoYK",
        "outputId": "855991bc-b3d1-4324-99e9-6b02e24bef5d"
      },
      "outputs": [
        {
          "name": "stdout",
          "output_type": "stream",
          "text": [
            "31.730333203449845ms +/- 0.2485366967520119ms\n"
          ]
        }
      ],
      "source": [
        "mat_timer(bases, actives, linear_dodge_8_torch)"
      ]
    },
    {
      "cell_type": "code",
      "execution_count": 30,
      "metadata": {
        "colab": {
          "base_uri": "https://localhost:8080/"
        },
        "id": "D_D_lZp-USVO",
        "outputId": "0191c9b5-e64f-437b-ab6e-a400e31dc7a8"
      },
      "outputs": [
        {
          "name": "stdout",
          "output_type": "stream",
          "text": [
            "10.2 µs ± 60.6 ns per loop (mean ± std. dev. of 7 runs, 100,000 loops each)\n"
          ]
        }
      ],
      "source": [
        "%timeit list3 = normal_blend_f_torch(list1, list2, int1)"
      ]
    },
    {
      "cell_type": "code",
      "execution_count": 31,
      "metadata": {
        "colab": {
          "base_uri": "https://localhost:8080/"
        },
        "id": "Gpc8nUKlUSXa",
        "outputId": "06442fad-0fb3-43be-ca67-79a398debbf5"
      },
      "outputs": [
        {
          "name": "stdout",
          "output_type": "stream",
          "text": [
            "9.43 µs ± 29.6 ns per loop (mean ± std. dev. of 7 runs, 100,000 loops each)\n"
          ]
        }
      ],
      "source": [
        "%timeit list3 = normal_blend_8_torch(list1, list2, int1)"
      ]
    }
  ],
  "metadata": {
    "accelerator": "GPU",
    "colab": {
      "gpuType": "T4",
      "provenance": [],
      "toc_visible": true
    },
    "kernelspec": {
      "display_name": "Python 3",
      "name": "python3"
    },
    "language_info": {
      "codemirror_mode": {
        "name": "ipython",
        "version": 3
      },
      "file_extension": ".py",
      "mimetype": "text/x-python",
      "name": "python",
      "nbconvert_exporter": "python",
      "pygments_lexer": "ipython3",
      "version": "3.10.13"
    }
  },
  "nbformat": 4,
  "nbformat_minor": 0
}
