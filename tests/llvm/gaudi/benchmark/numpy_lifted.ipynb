{
  "cells": [
    {
      "cell_type": "code",
      "execution_count": 1,
      "metadata": {
        "id": "3Fcj9JH7G-0j"
      },
      "outputs": [],
      "source": [
        "import numpy as np\n",
        "import time\n",
        "import cv2\n",
        "import os"
      ]
    },
    {
      "cell_type": "code",
      "execution_count": 2,
      "metadata": {
        "id": "zLxZyGubTtrb"
      },
      "outputs": [],
      "source": [
        "### numpy"
      ]
    },
    {
      "cell_type": "code",
      "execution_count": 3,
      "metadata": {
        "id": "HB_pcbzQUUYs"
      },
      "outputs": [],
      "source": [
        "const255np = 255.0\n",
        "const128np = 128.0"
      ]
    },
    {
      "cell_type": "code",
      "execution_count": 4,
      "metadata": {
        "id": "sfxRkgSURglU"
      },
      "outputs": [],
      "source": [
        "### Nested"
      ]
    },
    {
      "cell_type": "code",
      "execution_count": 5,
      "metadata": {
        "id": "5sW8bFYRUsGm"
      },
      "outputs": [],
      "source": [
        "def darken_blend_8_np(base, active):\n",
        "  return np.where(np.greater(base, active), active, base)"
      ]
    },
    {
      "cell_type": "code",
      "execution_count": 6,
      "metadata": {
        "id": "LhofMRejUsKe"
      },
      "outputs": [],
      "source": [
        "def color_burn_8_np(base, active):\n",
        "  return np.where(np.equal(active, 0), const255np, const255np - (const255np - base) / active)"
      ]
    },
    {
      "cell_type": "code",
      "execution_count": 7,
      "metadata": {
        "id": "oQHTB_4WUsPS"
      },
      "outputs": [],
      "source": [
        "def lighten_blend_8_np(base, active):\n",
        "  return np.where(np.less(base, active), active, base)"
      ]
    },
    {
      "cell_type": "code",
      "execution_count": 8,
      "metadata": {
        "id": "iGDkMUhlUsT5"
      },
      "outputs": [],
      "source": [
        "def color_dodge_8_np(base, active):\n",
        "  return np.where(np.equal(active, const255np), const255np, base / (const255np - active))"
      ]
    },
    {
      "cell_type": "code",
      "execution_count": 9,
      "metadata": {
        "id": "u5ABMdg-UsYn"
      },
      "outputs": [],
      "source": [
        "def overlay_blend_8_np(base, active):\n",
        "  return np.where(np.greater_equal(base, const128np), 2 * base + base - 2 * base * base / const255np - const128np, 2 * base * base / const128np)"
      ]
    },
    {
      "cell_type": "code",
      "execution_count": 10,
      "metadata": {
        "id": "EErCwOeTUsc8"
      },
      "outputs": [],
      "source": [
        "def multiply_blend_8_np(base, active):\n",
        "  return base * active / const255np"
      ]
    },
    {
      "cell_type": "code",
      "execution_count": 11,
      "metadata": {
        "id": "8iGd1h1gUsg1"
      },
      "outputs": [],
      "source": [
        "def linear_burn_8_np(base, active):\n",
        "  return base + active - const255np"
      ]
    },
    {
      "cell_type": "code",
      "execution_count": 12,
      "metadata": {
        "id": "0qt2hYdeUslS"
      },
      "outputs": [],
      "source": [
        "def screen_blend_8_np(base, active):\n",
        "  return base + active - base * active / const255np"
      ]
    },
    {
      "cell_type": "code",
      "execution_count": 13,
      "metadata": {
        "id": "nudlnaGjUsrK"
      },
      "outputs": [],
      "source": [
        "def linear_dodge_8_np(base, active):\n",
        "  return base + active"
      ]
    },
    {
      "cell_type": "code",
      "execution_count": 14,
      "metadata": {
        "id": "NlHDWYncRiW6"
      },
      "outputs": [],
      "source": [
        "### Single"
      ]
    },
    {
      "cell_type": "code",
      "execution_count": 15,
      "metadata": {
        "id": "5U6MvGJJRiZU"
      },
      "outputs": [],
      "source": [
        "def normal_blend_f_np(base, active, opacity):\n",
        "  return opacity * active + (1-opacity)*base"
      ]
    },
    {
      "cell_type": "code",
      "execution_count": 16,
      "metadata": {
        "id": "I1uMM2BXRibl"
      },
      "outputs": [],
      "source": [
        "def normal_blend_8_np(base, active, opacity):\n",
        "  return opacity * active + (const255np - opacity) * base"
      ]
    },
    {
      "cell_type": "code",
      "execution_count": null,
      "metadata": {
        "id": "4DSR3MfOY2qs"
      },
      "outputs": [],
      "source": []
    },
    {
      "cell_type": "code",
      "execution_count": 17,
      "metadata": {
        "id": "8LsXgnuDY2wH"
      },
      "outputs": [],
      "source": [
        "# Runner"
      ]
    },
    {
      "cell_type": "code",
      "execution_count": 18,
      "metadata": {
        "id": "kp2EBTkuY6Qk"
      },
      "outputs": [],
      "source": [
        "size = 512\n",
        "np.random.seed(1)\n",
        "\n",
        "list1 = np.random.rand(size).astype('float32')\n",
        "list2 = np.random.rand(size).astype('float32')\n",
        "list3 = np.random.rand(size)\n",
        "\n",
        "int1 = np.random.rand(1).astype('float32')"
      ]
    },
    {
      "cell_type": "code",
      "execution_count": 19,
      "metadata": {},
      "outputs": [],
      "source": [
        "folder = \"./data/\"\n",
        "\n",
        "img_files = [os.path.join(folder, f) for f in os.listdir(folder) if os.path.isfile(os.path.join(folder, f))]\n",
        "\n",
        "bases = []\n",
        "actives = []\n",
        "\n",
        "for _file in img_files:\n",
        "    img = cv2.imread(_file, cv2.IMREAD_GRAYSCALE)\n",
        "    rnd = np.random.rand(*img.shape).astype('float32')\n",
        "\n",
        "    bases.append(img)\n",
        "    actives.append(rnd)"
      ]
    },
    {
      "cell_type": "code",
      "execution_count": 20,
      "metadata": {},
      "outputs": [],
      "source": [
        "def runner(bases, actives, f):\n",
        "    total_time = 0\n",
        "    for i in range(len(bases)):\n",
        "        b = bases[i]\n",
        "        a = actives[i]\n",
        "        start_time = time.perf_counter()\n",
        "        f(b, a)\n",
        "        end_time = time.perf_counter()\n",
        "        del a\n",
        "        del b\n",
        "        total_time += (end_time - start_time) * 1000\n",
        "    return total_time\n",
        "\n",
        "def mat_timer(bases, actives, f):\n",
        "    runs = 5\n",
        "    times = []\n",
        "    for _ in range(runs):\n",
        "        times.append(runner(bases, actives, f))\n",
        "    times = np.array(times)\n",
        "    print(f\"{np.average(times)}ms +/- {np.std(times)}ms\")"
      ]
    },
    {
      "cell_type": "code",
      "execution_count": 21,
      "metadata": {
        "colab": {
          "base_uri": "https://localhost:8080/"
        },
        "id": "bmKXAn9cY-2i",
        "outputId": "3bb00b45-4cc7-4c94-d5a6-9b8faed45a35"
      },
      "outputs": [
        {
          "name": "stdout",
          "output_type": "stream",
          "text": [
            "1617.4099280498922ms +/- 44.254167836991954ms\n"
          ]
        }
      ],
      "source": [
        "mat_timer(bases, actives, darken_blend_8_np)"
      ]
    },
    {
      "cell_type": "code",
      "execution_count": 22,
      "metadata": {
        "colab": {
          "base_uri": "https://localhost:8080/"
        },
        "id": "2XHlgrOfY-4_",
        "outputId": "334350fe-3d33-40db-d312-816b9d7e5ec2"
      },
      "outputs": [
        {
          "name": "stdout",
          "output_type": "stream",
          "text": [
            "4302.086239261553ms +/- 23.140287768617558ms\n"
          ]
        }
      ],
      "source": [
        "mat_timer(bases, actives, color_burn_8_np) "
      ]
    },
    {
      "cell_type": "code",
      "execution_count": 23,
      "metadata": {
        "colab": {
          "base_uri": "https://localhost:8080/"
        },
        "id": "dnysw22lY-7X",
        "outputId": "3dea18cf-8601-49fe-8de8-8e2b1a93d636"
      },
      "outputs": [
        {
          "name": "stdout",
          "output_type": "stream",
          "text": [
            "1622.2720935475081ms +/- 4.8468646682959395ms\n"
          ]
        }
      ],
      "source": [
        "mat_timer(bases, actives, lighten_blend_8_np)"
      ]
    },
    {
      "cell_type": "code",
      "execution_count": 24,
      "metadata": {
        "colab": {
          "base_uri": "https://localhost:8080/"
        },
        "id": "W75fcczKY-9p",
        "outputId": "b53587e2-2d97-4624-8873-f78ed648c298"
      },
      "outputs": [
        {
          "name": "stdout",
          "output_type": "stream",
          "text": [
            "2114.2432576045394ms +/- 7.342991852991134ms\n"
          ]
        }
      ],
      "source": [
        "mat_timer(bases, actives, color_dodge_8_np)"
      ]
    },
    {
      "cell_type": "code",
      "execution_count": 25,
      "metadata": {
        "colab": {
          "base_uri": "https://localhost:8080/"
        },
        "id": "CWwU_LEmY_AC",
        "outputId": "d1ff9507-22fb-4cbb-8626-ba08510a2b9b"
      },
      "outputs": [
        {
          "name": "stdout",
          "output_type": "stream",
          "text": [
            "7191.760542243719ms +/- 8.515459911827737ms\n"
          ]
        }
      ],
      "source": [
        "mat_timer(bases, actives, overlay_blend_8_np)"
      ]
    },
    {
      "cell_type": "code",
      "execution_count": 26,
      "metadata": {
        "colab": {
          "base_uri": "https://localhost:8080/"
        },
        "id": "RtQB3719Y_CU",
        "outputId": "248adbff-5113-4a76-d0a4-50b506af20b1"
      },
      "outputs": [
        {
          "name": "stdout",
          "output_type": "stream",
          "text": [
            "985.2184700779617ms +/- 6.285905208942349ms\n"
          ]
        }
      ],
      "source": [
        "mat_timer(bases, actives, multiply_blend_8_np)"
      ]
    },
    {
      "cell_type": "code",
      "execution_count": 27,
      "metadata": {
        "colab": {
          "base_uri": "https://localhost:8080/"
        },
        "id": "SSTEC0V0Y_E8",
        "outputId": "0304bf2c-c985-452a-c2f7-23b88ab0a88d"
      },
      "outputs": [
        {
          "name": "stdout",
          "output_type": "stream",
          "text": [
            "933.6093899793923ms +/- 39.7617391549321ms\n"
          ]
        }
      ],
      "source": [
        "mat_timer(bases, actives, linear_burn_8_np)"
      ]
    },
    {
      "cell_type": "code",
      "execution_count": 28,
      "metadata": {
        "colab": {
          "base_uri": "https://localhost:8080/"
        },
        "id": "LgBPplLVY_HT",
        "outputId": "1f583dba-6361-49b9-dd68-526549b07ecd"
      },
      "outputs": [
        {
          "name": "stdout",
          "output_type": "stream",
          "text": [
            "1859.525149082765ms +/- 7.8551838415631785ms\n"
          ]
        }
      ],
      "source": [
        "mat_timer(bases, actives, screen_blend_8_np)"
      ]
    },
    {
      "cell_type": "code",
      "execution_count": 29,
      "metadata": {
        "colab": {
          "base_uri": "https://localhost:8080/"
        },
        "id": "SGENPuWDY_ME",
        "outputId": "b975d436-edd8-40f9-aa78-c3d9b980d8a4"
      },
      "outputs": [
        {
          "name": "stdout",
          "output_type": "stream",
          "text": [
            "731.9464105181396ms +/- 46.5453469155274ms\n"
          ]
        }
      ],
      "source": [
        "mat_timer(bases, actives, linear_dodge_8_np)"
      ]
    },
    {
      "cell_type": "code",
      "execution_count": 30,
      "metadata": {
        "colab": {
          "base_uri": "https://localhost:8080/"
        },
        "id": "waxNXqspWGr6",
        "outputId": "d61522a8-1742-4f1b-ea48-8676e8d3cdca"
      },
      "outputs": [
        {
          "name": "stdout",
          "output_type": "stream",
          "text": [
            "1.9 µs ± 2.39 ns per loop (mean ± std. dev. of 7 runs, 1,000,000 loops each)\n"
          ]
        }
      ],
      "source": [
        "%timeit list3 = normal_blend_f_np(list1, list2, int1)"
      ]
    },
    {
      "cell_type": "code",
      "execution_count": 31,
      "metadata": {
        "colab": {
          "base_uri": "https://localhost:8080/"
        },
        "id": "N_iMeGGaWGub",
        "outputId": "d1ed6fbe-bff6-496b-cab5-f98225f03d4b"
      },
      "outputs": [
        {
          "name": "stdout",
          "output_type": "stream",
          "text": [
            "1.92 µs ± 3.49 ns per loop (mean ± std. dev. of 7 runs, 1,000,000 loops each)\n"
          ]
        }
      ],
      "source": [
        "%timeit list3 = normal_blend_8_np(list1, list2, int1)"
      ]
    }
  ],
  "metadata": {
    "colab": {
      "provenance": [],
      "toc_visible": true
    },
    "kernelspec": {
      "display_name": "Python 3",
      "name": "python3"
    },
    "language_info": {
      "codemirror_mode": {
        "name": "ipython",
        "version": 3
      },
      "file_extension": ".py",
      "mimetype": "text/x-python",
      "name": "python",
      "nbconvert_exporter": "python",
      "pygments_lexer": "ipython3",
      "version": "3.10.13"
    }
  },
  "nbformat": 4,
  "nbformat_minor": 0
}
