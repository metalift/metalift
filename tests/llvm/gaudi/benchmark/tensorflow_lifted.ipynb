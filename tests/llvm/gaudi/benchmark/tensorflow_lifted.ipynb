{
  "cells": [
    {
      "cell_type": "code",
      "execution_count": 1,
      "metadata": {
        "id": "3Fcj9JH7G-0j"
      },
      "outputs": [
        {
          "name": "stderr",
          "output_type": "stream",
          "text": [
            "2023-12-20 23:11:08.609680: I tensorflow/core/util/port.cc:113] oneDNN custom operations are on. You may see slightly different numerical results due to floating-point round-off errors from different computation orders. To turn them off, set the environment variable `TF_ENABLE_ONEDNN_OPTS=0`.\n",
            "2023-12-20 23:11:08.629522: E external/local_xla/xla/stream_executor/cuda/cuda_dnn.cc:9261] Unable to register cuDNN factory: Attempting to register factory for plugin cuDNN when one has already been registered\n",
            "2023-12-20 23:11:08.629541: E external/local_xla/xla/stream_executor/cuda/cuda_fft.cc:607] Unable to register cuFFT factory: Attempting to register factory for plugin cuFFT when one has already been registered\n",
            "2023-12-20 23:11:08.630222: E external/local_xla/xla/stream_executor/cuda/cuda_blas.cc:1515] Unable to register cuBLAS factory: Attempting to register factory for plugin cuBLAS when one has already been registered\n",
            "2023-12-20 23:11:08.633747: I tensorflow/core/platform/cpu_feature_guard.cc:182] This TensorFlow binary is optimized to use available CPU instructions in performance-critical operations.\n",
            "To enable the following instructions: AVX2 AVX_VNNI FMA, in other operations, rebuild TensorFlow with the appropriate compiler flags.\n",
            "2023-12-20 23:11:08.959461: W tensorflow/compiler/tf2tensorrt/utils/py_utils.cc:38] TF-TRT Warning: Could not find TensorRT\n"
          ]
        }
      ],
      "source": [
        "import tensorflow as tf\n",
        "import numpy as np\n",
        "import time\n",
        "import cv2\n",
        "import os"
      ]
    },
    {
      "cell_type": "code",
      "execution_count": 2,
      "metadata": {
        "id": "S7O23vFiUAto"
      },
      "outputs": [],
      "source": [
        "### Tensorflow"
      ]
    },
    {
      "cell_type": "code",
      "execution_count": 3,
      "metadata": {
        "colab": {
          "base_uri": "https://localhost:8080/"
        },
        "id": "AFrTP19fKBmA",
        "outputId": "ca4da9aa-bd18-4f90-affa-ce14bcadf11d"
      },
      "outputs": [
        {
          "name": "stderr",
          "output_type": "stream",
          "text": [
            "2023-12-20 23:11:09.198336: I external/local_xla/xla/stream_executor/cuda/cuda_executor.cc:901] successful NUMA node read from SysFS had negative value (-1), but there must be at least one NUMA node, so returning NUMA node zero. See more at https://github.com/torvalds/linux/blob/v6.0/Documentation/ABI/testing/sysfs-bus-pci#L344-L355\n",
            "2023-12-20 23:11:09.217494: I external/local_xla/xla/stream_executor/cuda/cuda_executor.cc:901] successful NUMA node read from SysFS had negative value (-1), but there must be at least one NUMA node, so returning NUMA node zero. See more at https://github.com/torvalds/linux/blob/v6.0/Documentation/ABI/testing/sysfs-bus-pci#L344-L355\n",
            "2023-12-20 23:11:09.217581: I external/local_xla/xla/stream_executor/cuda/cuda_executor.cc:901] successful NUMA node read from SysFS had negative value (-1), but there must be at least one NUMA node, so returning NUMA node zero. See more at https://github.com/torvalds/linux/blob/v6.0/Documentation/ABI/testing/sysfs-bus-pci#L344-L355\n",
            "2023-12-20 23:11:09.218797: I external/local_xla/xla/stream_executor/cuda/cuda_executor.cc:901] successful NUMA node read from SysFS had negative value (-1), but there must be at least one NUMA node, so returning NUMA node zero. See more at https://github.com/torvalds/linux/blob/v6.0/Documentation/ABI/testing/sysfs-bus-pci#L344-L355\n",
            "2023-12-20 23:11:09.218852: I external/local_xla/xla/stream_executor/cuda/cuda_executor.cc:901] successful NUMA node read from SysFS had negative value (-1), but there must be at least one NUMA node, so returning NUMA node zero. See more at https://github.com/torvalds/linux/blob/v6.0/Documentation/ABI/testing/sysfs-bus-pci#L344-L355\n",
            "2023-12-20 23:11:09.218890: I external/local_xla/xla/stream_executor/cuda/cuda_executor.cc:901] successful NUMA node read from SysFS had negative value (-1), but there must be at least one NUMA node, so returning NUMA node zero. See more at https://github.com/torvalds/linux/blob/v6.0/Documentation/ABI/testing/sysfs-bus-pci#L344-L355\n",
            "2023-12-20 23:11:09.246670: I external/local_xla/xla/stream_executor/cuda/cuda_executor.cc:901] successful NUMA node read from SysFS had negative value (-1), but there must be at least one NUMA node, so returning NUMA node zero. See more at https://github.com/torvalds/linux/blob/v6.0/Documentation/ABI/testing/sysfs-bus-pci#L344-L355\n",
            "2023-12-20 23:11:09.246747: I external/local_xla/xla/stream_executor/cuda/cuda_executor.cc:901] successful NUMA node read from SysFS had negative value (-1), but there must be at least one NUMA node, so returning NUMA node zero. See more at https://github.com/torvalds/linux/blob/v6.0/Documentation/ABI/testing/sysfs-bus-pci#L344-L355\n",
            "2023-12-20 23:11:09.246801: I external/local_xla/xla/stream_executor/cuda/cuda_executor.cc:901] successful NUMA node read from SysFS had negative value (-1), but there must be at least one NUMA node, so returning NUMA node zero. See more at https://github.com/torvalds/linux/blob/v6.0/Documentation/ABI/testing/sysfs-bus-pci#L344-L355\n",
            "2023-12-20 23:11:09.246843: I tensorflow/core/common_runtime/gpu/gpu_device.cc:1929] Created device /job:localhost/replica:0/task:0/device:GPU:0 with 13170 MB memory:  -> device: 0, name: NVIDIA GeForce RTX 4080, pci bus id: 0000:01:00.0, compute capability: 8.9\n"
          ]
        }
      ],
      "source": [
        "const255tf = tf.constant([255.0])\n",
        "const128tf = tf.constant([128.0])\n"
      ]
    },
    {
      "cell_type": "code",
      "execution_count": 4,
      "metadata": {
        "id": "fpkwGDooQ6uc"
      },
      "outputs": [],
      "source": [
        "### Nested"
      ]
    },
    {
      "cell_type": "code",
      "execution_count": 5,
      "metadata": {
        "id": "2DxQ-niWHQk9"
      },
      "outputs": [],
      "source": [
        "def darken_blend_8_tf(base, active):\n",
        "  return tf.where(tf.greater(base, active), active, base)"
      ]
    },
    {
      "cell_type": "code",
      "execution_count": 6,
      "metadata": {
        "id": "4VhqImnYHs9O"
      },
      "outputs": [],
      "source": [
        "def color_burn_8_tf(base, active):\n",
        "  return tf.where(tf.equal(active, 0), const255tf, const255tf - (const255tf - base) / active)"
      ]
    },
    {
      "cell_type": "code",
      "execution_count": 7,
      "metadata": {
        "id": "8DWudgUDI5ET"
      },
      "outputs": [],
      "source": [
        "def lighten_blend_8_tf(base, active):\n",
        "  return tf.where(tf.less(base, active), active, base)"
      ]
    },
    {
      "cell_type": "code",
      "execution_count": 8,
      "metadata": {
        "id": "kxWfZPjGJbnz"
      },
      "outputs": [],
      "source": [
        "def color_dodge_8_tf(base, active):\n",
        "  return tf.where(tf.equal(active, const255tf), const255tf, base / (const255tf - active))"
      ]
    },
    {
      "cell_type": "code",
      "execution_count": 9,
      "metadata": {
        "id": "7QfPJf-GJcqx"
      },
      "outputs": [],
      "source": [
        "def overlay_blend_8_tf(base, active):\n",
        "  return tf.where(tf.greater_equal(base, const128tf), 2 * base + base - 2 * base * base / const255tf - const128tf, 2 * base * base / const128tf)"
      ]
    },
    {
      "cell_type": "code",
      "execution_count": 10,
      "metadata": {
        "id": "ary6YsWkKlm1"
      },
      "outputs": [],
      "source": [
        "def multiply_blend_8_tf(base, active):\n",
        "  return base * active / const255tf"
      ]
    },
    {
      "cell_type": "code",
      "execution_count": 11,
      "metadata": {
        "id": "M0nF2XJFMc0G"
      },
      "outputs": [],
      "source": [
        "def linear_burn_8_tf(base, active):\n",
        "  return base + active - const255tf"
      ]
    },
    {
      "cell_type": "code",
      "execution_count": 12,
      "metadata": {
        "id": "LhNWpK-_MmGz"
      },
      "outputs": [],
      "source": [
        "def screen_blend_8_tf(base, active):\n",
        "  return base + active - base * active / const255tf"
      ]
    },
    {
      "cell_type": "code",
      "execution_count": 13,
      "metadata": {
        "id": "QteNknkBMzrg"
      },
      "outputs": [],
      "source": [
        "def linear_dodge_8_tf(base, active):\n",
        "  return base + active"
      ]
    },
    {
      "cell_type": "code",
      "execution_count": 14,
      "metadata": {
        "id": "u5XRdM1kQrGF"
      },
      "outputs": [],
      "source": [
        "### Single"
      ]
    },
    {
      "cell_type": "code",
      "execution_count": 15,
      "metadata": {
        "id": "gOEAFLcGPAwk"
      },
      "outputs": [],
      "source": [
        "def normal_blend_f_tf(base, active, opacity):\n",
        "  return opacity * active + (1-opacity) * base"
      ]
    },
    {
      "cell_type": "code",
      "execution_count": 16,
      "metadata": {
        "id": "_Wc_UrzdPA1c"
      },
      "outputs": [],
      "source": [
        "def normal_blend_8_tf(base, active, opacity):\n",
        "  return opacity * active + (const255tf - opacity) * base"
      ]
    },
    {
      "cell_type": "code",
      "execution_count": null,
      "metadata": {
        "id": "EdqZMPcyW-Oe"
      },
      "outputs": [],
      "source": []
    },
    {
      "cell_type": "code",
      "execution_count": 17,
      "metadata": {
        "id": "izYjW79xW-TP"
      },
      "outputs": [],
      "source": [
        "### Runner"
      ]
    },
    {
      "cell_type": "code",
      "execution_count": 18,
      "metadata": {
        "id": "HRfV_EmuW_jp"
      },
      "outputs": [],
      "source": [
        "size = 512\n",
        "np.random.seed(1)\n",
        "\n",
        "list1 = np.random.rand(size).astype('float32')\n",
        "list2 = np.random.rand(size).astype('float32')\n",
        "list3 = np.random.rand(size)\n",
        "list1 = tf.convert_to_tensor(list1, np.float32)\n",
        "list2 = tf.convert_to_tensor(list2, np.float32)\n",
        "\n",
        "int1 = tf.convert_to_tensor(np.random.rand(1).astype('float32'), np.float32)"
      ]
    },
    {
      "cell_type": "code",
      "execution_count": 19,
      "metadata": {},
      "outputs": [],
      "source": [
        "folder = \"./data/\"\n",
        "\n",
        "img_files = [os.path.join(folder, f) for f in os.listdir(folder) if os.path.isfile(os.path.join(folder, f))]\n",
        "\n",
        "bases = []\n",
        "actives = []\n",
        "\n",
        "for _file in img_files:\n",
        "    img = cv2.imread(_file, cv2.IMREAD_GRAYSCALE)\n",
        "    rnd = np.random.rand(*img.shape).astype('float32')\n",
        "\n",
        "    bases.append(img)\n",
        "    actives.append(rnd)"
      ]
    },
    {
      "cell_type": "code",
      "execution_count": 20,
      "metadata": {},
      "outputs": [],
      "source": [
        "def runner(bases, actives, f):\n",
        "    total_time = 0\n",
        "    for i in range(len(bases)):\n",
        "        with tf.device('/GPU:0'):\n",
        "            b = tf.convert_to_tensor(bases[i], np.float32)\n",
        "            a = tf.convert_to_tensor(actives[i], np.float32)\n",
        "            assert a.device.endswith('GPU:0')\n",
        "            assert b.device.endswith('GPU:0')\n",
        "            start_time = time.perf_counter()\n",
        "            f(b, a)\n",
        "            end_time = time.perf_counter()\n",
        "            del a\n",
        "            del b\n",
        "            \n",
        "        total_time += (end_time - start_time) * 1000\n",
        "    return total_time\n",
        "\n",
        "def mat_timer(bases, actives, f):\n",
        "    runs = 5\n",
        "    times = []\n",
        "    for _ in range(runs):\n",
        "        times.append(runner(bases, actives, f))\n",
        "    times = np.array(times)\n",
        "    print(f\"{np.average(times)}ms +/- {np.std(times)}ms\")"
      ]
    },
    {
      "cell_type": "code",
      "execution_count": 21,
      "metadata": {
        "colab": {
          "base_uri": "https://localhost:8080/"
        },
        "id": "MB4shFvbXS5W",
        "outputId": "3c92ba75-4c24-4726-8226-af6ee36e02cc"
      },
      "outputs": [
        {
          "name": "stderr",
          "output_type": "stream",
          "text": [
            "2023-12-20 23:11:22.700491: I external/local_tsl/tsl/platform/default/subprocess.cc:304] Start cannot spawn child process: No such file or directory\n"
          ]
        },
        {
          "name": "stdout",
          "output_type": "stream",
          "text": [
            "339.5889590959996ms +/- 116.59198284177711ms\n"
          ]
        }
      ],
      "source": [
        "mat_timer(bases, actives, darken_blend_8_tf)"
      ]
    },
    {
      "cell_type": "code",
      "execution_count": 22,
      "metadata": {
        "colab": {
          "base_uri": "https://localhost:8080/"
        },
        "id": "5qt9CDcGXS76",
        "outputId": "f7957436-d94f-4d13-b45d-a1de2550dd94"
      },
      "outputs": [
        {
          "name": "stdout",
          "output_type": "stream",
          "text": [
            "721.0472451057285ms +/- 5.465780765103604ms\n"
          ]
        }
      ],
      "source": [
        "mat_timer(bases, actives, color_burn_8_tf)"
      ]
    },
    {
      "cell_type": "code",
      "execution_count": 23,
      "metadata": {
        "colab": {
          "base_uri": "https://localhost:8080/"
        },
        "id": "FsRFdyK8XS-u",
        "outputId": "dfc63085-fb86-4df6-b19f-e61e18a4a3aa"
      },
      "outputs": [
        {
          "name": "stdout",
          "output_type": "stream",
          "text": [
            "277.0289354491979ms +/- 2.6017532068284304ms\n"
          ]
        }
      ],
      "source": [
        "mat_timer(bases, actives, lighten_blend_8_tf) "
      ]
    },
    {
      "cell_type": "code",
      "execution_count": 24,
      "metadata": {
        "colab": {
          "base_uri": "https://localhost:8080/"
        },
        "id": "yfCHE_FtXTBV",
        "outputId": "207d25cf-d20d-495c-a050-4ee172fe1f5f"
      },
      "outputs": [
        {
          "name": "stdout",
          "output_type": "stream",
          "text": [
            "608.13023801893ms +/- 1.5751649904720748ms\n"
          ]
        }
      ],
      "source": [
        "mat_timer(bases, actives, color_dodge_8_tf) "
      ]
    },
    {
      "cell_type": "code",
      "execution_count": 25,
      "metadata": {
        "colab": {
          "base_uri": "https://localhost:8080/"
        },
        "id": "JsdoO_lFXTD_",
        "outputId": "34aa5215-7869-4643-cc56-c46e224a216a"
      },
      "outputs": [
        {
          "name": "stdout",
          "output_type": "stream",
          "text": [
            "1686.642973171547ms +/- 5.304261381480963ms\n"
          ]
        }
      ],
      "source": [
        "mat_timer(bases, actives, overlay_blend_8_tf) "
      ]
    },
    {
      "cell_type": "code",
      "execution_count": 26,
      "metadata": {
        "colab": {
          "base_uri": "https://localhost:8080/"
        },
        "id": "m_djqfuGXTGj",
        "outputId": "8bfc952b-e4c7-41c8-bd72-b870bbff5585"
      },
      "outputs": [
        {
          "name": "stdout",
          "output_type": "stream",
          "text": [
            "366.8182907626033ms +/- 1.3902134537036872ms\n"
          ]
        }
      ],
      "source": [
        "mat_timer(bases, actives, multiply_blend_8_tf) "
      ]
    },
    {
      "cell_type": "code",
      "execution_count": 27,
      "metadata": {
        "colab": {
          "base_uri": "https://localhost:8080/"
        },
        "id": "BtaSpU6UXTJL",
        "outputId": "16afe2c2-83d8-4644-a6a1-498776ec688d"
      },
      "outputs": [
        {
          "name": "stdout",
          "output_type": "stream",
          "text": [
            "307.1173360571265ms +/- 0.632922966027208ms\n"
          ]
        }
      ],
      "source": [
        "mat_timer(bases, actives, linear_burn_8_tf) "
      ]
    },
    {
      "cell_type": "code",
      "execution_count": 28,
      "metadata": {
        "colab": {
          "background_save": true
        },
        "id": "Ato4hHoQXTLx",
        "outputId": "b6ea2502-3fa0-4d03-a659-187d1a642a2a"
      },
      "outputs": [
        {
          "name": "stdout",
          "output_type": "stream",
          "text": [
            "598.8244122359902ms +/- 3.224496217022755ms\n"
          ]
        }
      ],
      "source": [
        "mat_timer(bases, actives, screen_blend_8_tf) "
      ]
    },
    {
      "cell_type": "code",
      "execution_count": 29,
      "metadata": {
        "colab": {
          "background_save": true
        },
        "id": "FUG_RUgjXTSF",
        "outputId": "e4ce294f-fad7-4314-b685-8c4e1b9d744b"
      },
      "outputs": [
        {
          "name": "stdout",
          "output_type": "stream",
          "text": [
            "188.26800496317446ms +/- 1.5647762087323793ms\n"
          ]
        }
      ],
      "source": [
        "mat_timer(bases, actives, linear_dodge_8_tf) "
      ]
    },
    {
      "cell_type": "code",
      "execution_count": 30,
      "metadata": {
        "colab": {
          "background_save": true
        },
        "id": "9kE-EhsjThtM",
        "outputId": "acd43a97-3a42-4491-aa43-966eb2e60209"
      },
      "outputs": [
        {
          "name": "stdout",
          "output_type": "stream",
          "text": [
            "43.9 µs ± 64.9 ns per loop (mean ± std. dev. of 7 runs, 10,000 loops each)\n"
          ]
        }
      ],
      "source": [
        "with tf.device('/gpu'):\n",
        "  %timeit list3 = normal_blend_f_tf(list1, list2, int1)"
      ]
    },
    {
      "cell_type": "code",
      "execution_count": 31,
      "metadata": {
        "colab": {
          "background_save": true
        },
        "id": "QAbq4_HnThvs",
        "outputId": "f7593f5b-ce16-4820-f735-30a633ff3ebf"
      },
      "outputs": [
        {
          "name": "stdout",
          "output_type": "stream",
          "text": [
            "38 µs ± 41.6 ns per loop (mean ± std. dev. of 7 runs, 10,000 loops each)\n"
          ]
        }
      ],
      "source": [
        "with tf.device('/gpu'):\n",
        "  %timeit list3 = normal_blend_8_tf(list1, list2, int1)"
      ]
    }
  ],
  "metadata": {
    "accelerator": "GPU",
    "colab": {
      "provenance": []
    },
    "kernelspec": {
      "display_name": "Python 3",
      "name": "python3"
    },
    "language_info": {
      "codemirror_mode": {
        "name": "ipython",
        "version": 3
      },
      "file_extension": ".py",
      "mimetype": "text/x-python",
      "name": "python",
      "nbconvert_exporter": "python",
      "pygments_lexer": "ipython3",
      "version": "3.9.18"
    }
  },
  "nbformat": 4,
  "nbformat_minor": 0
}
