{
  "cells": [
    {
      "cell_type": "code",
      "execution_count": 1,
      "metadata": {
        "id": "3Fcj9JH7G-0j"
      },
      "outputs": [
        {
          "name": "stderr",
          "output_type": "stream",
          "text": [
            "2023-12-27 01:08:42.274748: I tensorflow/core/util/port.cc:113] oneDNN custom operations are on. You may see slightly different numerical results due to floating-point round-off errors from different computation orders. To turn them off, set the environment variable `TF_ENABLE_ONEDNN_OPTS=0`.\n",
            "2023-12-27 01:08:42.380373: E external/local_xla/xla/stream_executor/cuda/cuda_dnn.cc:9261] Unable to register cuDNN factory: Attempting to register factory for plugin cuDNN when one has already been registered\n",
            "2023-12-27 01:08:42.380402: E external/local_xla/xla/stream_executor/cuda/cuda_fft.cc:607] Unable to register cuFFT factory: Attempting to register factory for plugin cuFFT when one has already been registered\n",
            "2023-12-27 01:08:42.396389: E external/local_xla/xla/stream_executor/cuda/cuda_blas.cc:1515] Unable to register cuBLAS factory: Attempting to register factory for plugin cuBLAS when one has already been registered\n",
            "2023-12-27 01:08:42.434693: I tensorflow/core/platform/cpu_feature_guard.cc:182] This TensorFlow binary is optimized to use available CPU instructions in performance-critical operations.\n",
            "To enable the following instructions: AVX2 AVX_VNNI FMA, in other operations, rebuild TensorFlow with the appropriate compiler flags.\n",
            "2023-12-27 01:08:42.909578: W tensorflow/compiler/tf2tensorrt/utils/py_utils.cc:38] TF-TRT Warning: Could not find TensorRT\n"
          ]
        }
      ],
      "source": [
        "import tensorflow as tf\n",
        "import numpy as np\n",
        "import time\n",
        "import cv2\n",
        "import os"
      ]
    },
    {
      "cell_type": "code",
      "execution_count": 2,
      "metadata": {
        "id": "S7O23vFiUAto"
      },
      "outputs": [],
      "source": [
        "### Tensorflow"
      ]
    },
    {
      "cell_type": "code",
      "execution_count": 3,
      "metadata": {
        "id": "fpkwGDooQ6uc"
      },
      "outputs": [],
      "source": [
        "### Nested"
      ]
    },
    {
      "cell_type": "code",
      "execution_count": 4,
      "metadata": {
        "id": "2DxQ-niWHQk9"
      },
      "outputs": [],
      "source": [
        "def darken_blend_8_tf(base, active):\n",
        "  return tf.where(tf.greater(base, active), active, base)"
      ]
    },
    {
      "cell_type": "code",
      "execution_count": 5,
      "metadata": {
        "id": "4VhqImnYHs9O"
      },
      "outputs": [],
      "source": [
        "def color_burn_8_tf(base, active):\n",
        "  return tf.where(tf.equal(active, tf.constant([0.0])), 255.0, 255.0 - (255.0 - base) / active)"
      ]
    },
    {
      "cell_type": "code",
      "execution_count": 6,
      "metadata": {
        "id": "8DWudgUDI5ET"
      },
      "outputs": [],
      "source": [
        "def lighten_blend_8_tf(base, active):\n",
        "  return tf.where(tf.less(base, active), active, base)"
      ]
    },
    {
      "cell_type": "code",
      "execution_count": 7,
      "metadata": {
        "id": "kxWfZPjGJbnz"
      },
      "outputs": [],
      "source": [
        "def color_dodge_8_tf(base, active):\n",
        "  return tf.where(tf.equal(active, 255.0), 255.0, base / (255.0 - active))"
      ]
    },
    {
      "cell_type": "code",
      "execution_count": 8,
      "metadata": {
        "id": "7QfPJf-GJcqx"
      },
      "outputs": [],
      "source": [
        "def overlay_blend_8_tf(base, active):\n",
        "  return tf.where(tf.greater_equal(base, 128.0), 2 * base + base - 2 * base * base / 255.0 - 128.0, 2 * base * base / 128.0)"
      ]
    },
    {
      "cell_type": "code",
      "execution_count": 9,
      "metadata": {
        "id": "ary6YsWkKlm1"
      },
      "outputs": [],
      "source": [
        "def multiply_blend_8_tf(base, active):\n",
        "  return base * active / 255.0"
      ]
    },
    {
      "cell_type": "code",
      "execution_count": 10,
      "metadata": {
        "id": "M0nF2XJFMc0G"
      },
      "outputs": [],
      "source": [
        "def linear_burn_8_tf(base, active):\n",
        "  return base + active - 255.0"
      ]
    },
    {
      "cell_type": "code",
      "execution_count": 11,
      "metadata": {
        "id": "LhNWpK-_MmGz"
      },
      "outputs": [],
      "source": [
        "def screen_blend_8_tf(base, active):\n",
        "  return base + active - base * active / 255.0"
      ]
    },
    {
      "cell_type": "code",
      "execution_count": 12,
      "metadata": {
        "id": "QteNknkBMzrg"
      },
      "outputs": [],
      "source": [
        "def linear_dodge_8_tf(base, active):\n",
        "  return base + active"
      ]
    },
    {
      "cell_type": "code",
      "execution_count": 13,
      "metadata": {
        "id": "u5XRdM1kQrGF"
      },
      "outputs": [],
      "source": [
        "### Single"
      ]
    },
    {
      "cell_type": "code",
      "execution_count": 14,
      "metadata": {
        "id": "gOEAFLcGPAwk"
      },
      "outputs": [],
      "source": [
        "def normal_blend_f_tf(base, active, opacity):\n",
        "  return opacity * active + (1-opacity) * base"
      ]
    },
    {
      "cell_type": "code",
      "execution_count": 15,
      "metadata": {
        "id": "_Wc_UrzdPA1c"
      },
      "outputs": [],
      "source": [
        "def normal_blend_8_tf(base, active, opacity):\n",
        "  return opacity * active + (255.0 - opacity) * base"
      ]
    },
    {
      "cell_type": "code",
      "execution_count": null,
      "metadata": {
        "id": "EdqZMPcyW-Oe"
      },
      "outputs": [],
      "source": []
    },
    {
      "cell_type": "code",
      "execution_count": 16,
      "metadata": {
        "id": "izYjW79xW-TP"
      },
      "outputs": [],
      "source": [
        "### Runner"
      ]
    },
    {
      "cell_type": "code",
      "execution_count": 17,
      "metadata": {
        "id": "HRfV_EmuW_jp"
      },
      "outputs": [],
      "source": [
        "rng = np.random.default_rng(1)"
      ]
    },
    {
      "cell_type": "code",
      "execution_count": 18,
      "metadata": {},
      "outputs": [],
      "source": [
        "folder = \"./data/\"\n",
        "\n",
        "img_files = [os.path.join(folder, f) for f in os.listdir(folder) if os.path.isfile(os.path.join(folder, f))]\n",
        "\n",
        "bases = []\n",
        "actives = []\n",
        "\n",
        "for _file in img_files:\n",
        "    img = cv2.imread(_file, cv2.IMREAD_GRAYSCALE)\n",
        "    rnd = rng.random(img.shape, dtype = np.float32) * 255\n",
        "    bases.append(img)\n",
        "    actives.append(rnd)"
      ]
    },
    {
      "cell_type": "code",
      "execution_count": 19,
      "metadata": {},
      "outputs": [],
      "source": [
        "def mat_runner(bases, actives, f):\n",
        "    total_time = 0\n",
        "    for i in range(len(bases)):\n",
        "        with tf.device('/GPU:0'):\n",
        "            b = tf.convert_to_tensor(bases[i], np.float32)\n",
        "            a = tf.convert_to_tensor(actives[i], np.float32)\n",
        "            assert a.device.endswith('GPU:0')\n",
        "            assert b.device.endswith('GPU:0')\n",
        "            start_time = time.perf_counter()\n",
        "            f(b, a)\n",
        "            end_time = time.perf_counter()\n",
        "            del a\n",
        "            del b\n",
        "            \n",
        "        total_time += (end_time - start_time) * 1000\n",
        "    return total_time\n",
        "\n",
        "def vec_runner(bases, actives, f):\n",
        "    total_time = 0\n",
        "    for i in range(len(bases)):\n",
        "        base = bases[i].flatten()\n",
        "        active = actives[i].flatten()\n",
        "        with tf.device('/GPU:0'):\n",
        "            b = tf.convert_to_tensor(base, np.float32)\n",
        "            a = tf.convert_to_tensor(active, np.float32)\n",
        "            assert a.device.endswith('GPU:0')\n",
        "            assert b.device.endswith('GPU:0')\n",
        "            opacity = tf.convert_to_tensor(rng.random(1, dtype = np.float32), np.float32)\n",
        "            start_time = time.perf_counter()\n",
        "            f(b, a, opacity)\n",
        "            end_time = time.perf_counter()\n",
        "            del a\n",
        "            del b\n",
        "        \n",
        "        total_time += (end_time - start_time) * 1000\n",
        "    return total_time\n",
        "\n",
        "def timer(bases, actives, f, runner):\n",
        "    runs = 5\n",
        "    times = []\n",
        "    for _ in range(runs):\n",
        "        times.append(runner(bases, actives, f))\n",
        "    times = np.array(times)\n",
        "    print(f\"{np.average(times)}ms +/- {np.std(times)}ms\")"
      ]
    },
    {
      "cell_type": "code",
      "execution_count": 20,
      "metadata": {
        "colab": {
          "base_uri": "https://localhost:8080/"
        },
        "id": "MB4shFvbXS5W",
        "outputId": "3c92ba75-4c24-4726-8226-af6ee36e02cc"
      },
      "outputs": [
        {
          "name": "stderr",
          "output_type": "stream",
          "text": [
            "2023-12-27 01:09:12.855940: I external/local_xla/xla/stream_executor/cuda/cuda_executor.cc:901] successful NUMA node read from SysFS had negative value (-1), but there must be at least one NUMA node, so returning NUMA node zero. See more at https://github.com/torvalds/linux/blob/v6.0/Documentation/ABI/testing/sysfs-bus-pci#L344-L355\n",
            "2023-12-27 01:09:12.922276: I external/local_xla/xla/stream_executor/cuda/cuda_executor.cc:901] successful NUMA node read from SysFS had negative value (-1), but there must be at least one NUMA node, so returning NUMA node zero. See more at https://github.com/torvalds/linux/blob/v6.0/Documentation/ABI/testing/sysfs-bus-pci#L344-L355\n",
            "2023-12-27 01:09:12.922380: I external/local_xla/xla/stream_executor/cuda/cuda_executor.cc:901] successful NUMA node read from SysFS had negative value (-1), but there must be at least one NUMA node, so returning NUMA node zero. See more at https://github.com/torvalds/linux/blob/v6.0/Documentation/ABI/testing/sysfs-bus-pci#L344-L355\n",
            "2023-12-27 01:09:12.927502: I external/local_xla/xla/stream_executor/cuda/cuda_executor.cc:901] successful NUMA node read from SysFS had negative value (-1), but there must be at least one NUMA node, so returning NUMA node zero. See more at https://github.com/torvalds/linux/blob/v6.0/Documentation/ABI/testing/sysfs-bus-pci#L344-L355\n",
            "2023-12-27 01:09:12.927568: I external/local_xla/xla/stream_executor/cuda/cuda_executor.cc:901] successful NUMA node read from SysFS had negative value (-1), but there must be at least one NUMA node, so returning NUMA node zero. See more at https://github.com/torvalds/linux/blob/v6.0/Documentation/ABI/testing/sysfs-bus-pci#L344-L355\n",
            "2023-12-27 01:09:12.927605: I external/local_xla/xla/stream_executor/cuda/cuda_executor.cc:901] successful NUMA node read from SysFS had negative value (-1), but there must be at least one NUMA node, so returning NUMA node zero. See more at https://github.com/torvalds/linux/blob/v6.0/Documentation/ABI/testing/sysfs-bus-pci#L344-L355\n",
            "2023-12-27 01:09:12.979937: I external/local_xla/xla/stream_executor/cuda/cuda_executor.cc:901] successful NUMA node read from SysFS had negative value (-1), but there must be at least one NUMA node, so returning NUMA node zero. See more at https://github.com/torvalds/linux/blob/v6.0/Documentation/ABI/testing/sysfs-bus-pci#L344-L355\n",
            "2023-12-27 01:09:12.980185: I external/local_xla/xla/stream_executor/cuda/cuda_executor.cc:901] successful NUMA node read from SysFS had negative value (-1), but there must be at least one NUMA node, so returning NUMA node zero. See more at https://github.com/torvalds/linux/blob/v6.0/Documentation/ABI/testing/sysfs-bus-pci#L344-L355\n",
            "2023-12-27 01:09:12.980232: I external/local_xla/xla/stream_executor/cuda/cuda_executor.cc:901] successful NUMA node read from SysFS had negative value (-1), but there must be at least one NUMA node, so returning NUMA node zero. See more at https://github.com/torvalds/linux/blob/v6.0/Documentation/ABI/testing/sysfs-bus-pci#L344-L355\n",
            "2023-12-27 01:09:12.980270: I tensorflow/core/common_runtime/gpu/gpu_device.cc:1929] Created device /job:localhost/replica:0/task:0/device:GPU:0 with 13666 MB memory:  -> device: 0, name: NVIDIA GeForce RTX 4080, pci bus id: 0000:01:00.0, compute capability: 8.9\n",
            "2023-12-27 01:09:13.254430: I external/local_tsl/tsl/platform/default/subprocess.cc:304] Start cannot spawn child process: No such file or directory\n"
          ]
        },
        {
          "name": "stdout",
          "output_type": "stream",
          "text": [
            "339.59491765126586ms +/- 148.40662453862637ms\n"
          ]
        }
      ],
      "source": [
        "timer(bases, actives, darken_blend_8_tf, mat_runner)"
      ]
    },
    {
      "cell_type": "code",
      "execution_count": 21,
      "metadata": {
        "colab": {
          "base_uri": "https://localhost:8080/"
        },
        "id": "5qt9CDcGXS76",
        "outputId": "f7957436-d94f-4d13-b45d-a1de2550dd94"
      },
      "outputs": [
        {
          "name": "stdout",
          "output_type": "stream",
          "text": [
            "1493.9552545547485ms +/- 104.47842546011063ms\n"
          ]
        }
      ],
      "source": [
        "timer(bases, actives, color_burn_8_tf, mat_runner)"
      ]
    },
    {
      "cell_type": "code",
      "execution_count": 22,
      "metadata": {
        "colab": {
          "base_uri": "https://localhost:8080/"
        },
        "id": "FsRFdyK8XS-u",
        "outputId": "dfc63085-fb86-4df6-b19f-e61e18a4a3aa"
      },
      "outputs": [
        {
          "name": "stdout",
          "output_type": "stream",
          "text": [
            "262.04446186311543ms +/- 1.3612548851267552ms\n"
          ]
        }
      ],
      "source": [
        "timer(bases, actives, lighten_blend_8_tf, mat_runner)"
      ]
    },
    {
      "cell_type": "code",
      "execution_count": 23,
      "metadata": {
        "colab": {
          "base_uri": "https://localhost:8080/"
        },
        "id": "yfCHE_FtXTBV",
        "outputId": "207d25cf-d20d-495c-a050-4ee172fe1f5f"
      },
      "outputs": [
        {
          "name": "stdout",
          "output_type": "stream",
          "text": [
            "681.7441997583956ms +/- 4.0837734308139595ms\n"
          ]
        }
      ],
      "source": [
        "timer(bases, actives, color_dodge_8_tf, mat_runner)"
      ]
    },
    {
      "cell_type": "code",
      "execution_count": 24,
      "metadata": {
        "colab": {
          "base_uri": "https://localhost:8080/"
        },
        "id": "JsdoO_lFXTD_",
        "outputId": "34aa5215-7869-4643-cc56-c46e224a216a"
      },
      "outputs": [
        {
          "name": "stdout",
          "output_type": "stream",
          "text": [
            "1729.6577418223023ms +/- 8.933579636623586ms\n"
          ]
        }
      ],
      "source": [
        "timer(bases, actives, overlay_blend_8_tf, mat_runner)"
      ]
    },
    {
      "cell_type": "code",
      "execution_count": 25,
      "metadata": {
        "colab": {
          "base_uri": "https://localhost:8080/"
        },
        "id": "m_djqfuGXTGj",
        "outputId": "8bfc952b-e4c7-41c8-bd72-b870bbff5585"
      },
      "outputs": [
        {
          "name": "stdout",
          "output_type": "stream",
          "text": [
            "409.4691237434745ms +/- 2.4215717328228368ms\n"
          ]
        }
      ],
      "source": [
        "timer(bases, actives, multiply_blend_8_tf, mat_runner)"
      ]
    },
    {
      "cell_type": "code",
      "execution_count": 26,
      "metadata": {
        "colab": {
          "base_uri": "https://localhost:8080/"
        },
        "id": "BtaSpU6UXTJL",
        "outputId": "16afe2c2-83d8-4644-a6a1-498776ec688d"
      },
      "outputs": [
        {
          "name": "stdout",
          "output_type": "stream",
          "text": [
            "300.8791049942374ms +/- 2.227991233546502ms\n"
          ]
        }
      ],
      "source": [
        "timer(bases, actives, linear_burn_8_tf, mat_runner)"
      ]
    },
    {
      "cell_type": "code",
      "execution_count": 27,
      "metadata": {
        "colab": {
          "background_save": true
        },
        "id": "Ato4hHoQXTLx",
        "outputId": "b6ea2502-3fa0-4d03-a659-187d1a642a2a"
      },
      "outputs": [
        {
          "name": "stdout",
          "output_type": "stream",
          "text": [
            "629.5075819827616ms +/- 3.3891857790921187ms\n"
          ]
        }
      ],
      "source": [
        "timer(bases, actives, screen_blend_8_tf, mat_runner)"
      ]
    },
    {
      "cell_type": "code",
      "execution_count": 28,
      "metadata": {
        "colab": {
          "background_save": true
        },
        "id": "FUG_RUgjXTSF",
        "outputId": "e4ce294f-fad7-4314-b685-8c4e1b9d744b"
      },
      "outputs": [
        {
          "name": "stdout",
          "output_type": "stream",
          "text": [
            "302.82387752085924ms +/- 2.756479697814661ms\n"
          ]
        }
      ],
      "source": [
        "timer(bases, actives, linear_dodge_8_tf, mat_runner)"
      ]
    },
    {
      "cell_type": "code",
      "execution_count": 29,
      "metadata": {
        "colab": {
          "background_save": true
        },
        "id": "9kE-EhsjThtM",
        "outputId": "acd43a97-3a42-4491-aa43-966eb2e60209"
      },
      "outputs": [
        {
          "name": "stdout",
          "output_type": "stream",
          "text": [
            "578.537290263921ms +/- 2.6500518284137016ms\n"
          ]
        }
      ],
      "source": [
        "timer(bases, actives, normal_blend_f_tf, vec_runner)"
      ]
    },
    {
      "cell_type": "code",
      "execution_count": 30,
      "metadata": {
        "colab": {
          "background_save": true
        },
        "id": "QAbq4_HnThvs",
        "outputId": "f7593f5b-ce16-4820-f735-30a633ff3ebf"
      },
      "outputs": [
        {
          "name": "stdout",
          "output_type": "stream",
          "text": [
            "583.4889957681298ms +/- 4.147419289212431ms\n"
          ]
        }
      ],
      "source": [
        "timer(bases, actives, normal_blend_8_tf, vec_runner)"
      ]
    }
  ],
  "metadata": {
    "accelerator": "GPU",
    "colab": {
      "provenance": []
    },
    "kernelspec": {
      "display_name": "Python 3",
      "name": "python3"
    },
    "language_info": {
      "codemirror_mode": {
        "name": "ipython",
        "version": 3
      },
      "file_extension": ".py",
      "mimetype": "text/x-python",
      "name": "python",
      "nbconvert_exporter": "python",
      "pygments_lexer": "ipython3",
      "version": "3.9.18"
    }
  },
  "nbformat": 4,
  "nbformat_minor": 0
}
